{
 "cells": [
  {
   "cell_type": "markdown",
   "id": "263f028e",
   "metadata": {},
   "source": [
    "## Snowtrace Visualiser\n",
    "<b>By:</b> Joeri van Wijngaarden<br>\n",
    "<b>Date:</b> 04.03.2022"
   ]
  },
  {
   "cell_type": "code",
   "execution_count": 124,
   "id": "b744a20f",
   "metadata": {},
   "outputs": [],
   "source": [
    "# Load friends\n",
    "import numpy as np\n",
    "import pandas as pd\n",
    "import matplotlib.pyplot as plt\n",
    "import plotly.graph_objects as go\n",
    "import networkx as nx\n",
    "from pyvis.network import Network\n",
    "%matplotlib inline"
   ]
  },
  {
   "cell_type": "markdown",
   "id": "d8f53e48",
   "metadata": {},
   "source": [
    "## Token level analysis"
   ]
  },
  {
   "cell_type": "code",
   "execution_count": 183,
   "id": "5fabddbf",
   "metadata": {},
   "outputs": [
    {
     "name": "stdout",
     "output_type": "stream",
     "text": [
      "<class 'pandas.core.frame.DataFrame'>\n",
      "RangeIndex: 45 entries, 0 to 44\n",
      "Data columns (total 19 columns):\n",
      " #   Column             Non-Null Count  Dtype         \n",
      "---  ------             --------------  -----         \n",
      " 0   blockNumber        45 non-null     int64         \n",
      " 1   timeStamp          45 non-null     datetime64[ns]\n",
      " 2   hash               45 non-null     object        \n",
      " 3   nonce              45 non-null     int64         \n",
      " 4   blockHash          45 non-null     object        \n",
      " 5   from               45 non-null     object        \n",
      " 6   to                 45 non-null     object        \n",
      " 7   contractAddress    45 non-null     object        \n",
      " 8   value              45 non-null     float64       \n",
      " 9   tokenName          45 non-null     object        \n",
      " 10  tokenSymbol        45 non-null     object        \n",
      " 11  tokenDecimal       45 non-null     int64         \n",
      " 12  transactionIndex   45 non-null     int64         \n",
      " 13  gas                45 non-null     int64         \n",
      " 14  gasPrice           45 non-null     int64         \n",
      " 15  gasUsed            45 non-null     int64         \n",
      " 16  cumulativeGasUsed  45 non-null     int64         \n",
      " 17  input              45 non-null     object        \n",
      " 18  confirmations      45 non-null     int64         \n",
      "dtypes: datetime64[ns](1), float64(1), int64(9), object(8)\n",
      "memory usage: 6.8+ KB\n"
     ]
    },
    {
     "data": {
      "text/html": [
       "<div>\n",
       "<style scoped>\n",
       "    .dataframe tbody tr th:only-of-type {\n",
       "        vertical-align: middle;\n",
       "    }\n",
       "\n",
       "    .dataframe tbody tr th {\n",
       "        vertical-align: top;\n",
       "    }\n",
       "\n",
       "    .dataframe thead th {\n",
       "        text-align: right;\n",
       "    }\n",
       "</style>\n",
       "<table border=\"1\" class=\"dataframe\">\n",
       "  <thead>\n",
       "    <tr style=\"text-align: right;\">\n",
       "      <th></th>\n",
       "      <th>blockNumber</th>\n",
       "      <th>timeStamp</th>\n",
       "      <th>hash</th>\n",
       "      <th>nonce</th>\n",
       "      <th>blockHash</th>\n",
       "      <th>from</th>\n",
       "      <th>to</th>\n",
       "      <th>contractAddress</th>\n",
       "      <th>value</th>\n",
       "      <th>tokenName</th>\n",
       "      <th>tokenSymbol</th>\n",
       "      <th>tokenDecimal</th>\n",
       "      <th>transactionIndex</th>\n",
       "      <th>gas</th>\n",
       "      <th>gasPrice</th>\n",
       "      <th>gasUsed</th>\n",
       "      <th>cumulativeGasUsed</th>\n",
       "      <th>input</th>\n",
       "      <th>confirmations</th>\n",
       "    </tr>\n",
       "  </thead>\n",
       "  <tbody>\n",
       "    <tr>\n",
       "      <th>0</th>\n",
       "      <td>6893824</td>\n",
       "      <td>2021-11-13 12:45:27</td>\n",
       "      <td>0xe11cfc0f12a7e14b00379444686156a6ab99771ce4a6...</td>\n",
       "      <td>7</td>\n",
       "      <td>0x6e3c28e15fed6a883869fc6d442ee9957829bd55c828...</td>\n",
       "      <td>0x777859db1cac47fbe7ceef95434814c349e739bf</td>\n",
       "      <td>0xa32608e873f9ddef944b24798db69d80bbb4d1ed</td>\n",
       "      <td>0xa32608e873f9ddef944b24798db69d80bbb4d1ed</td>\n",
       "      <td>2.229920e+20</td>\n",
       "      <td>CRA</td>\n",
       "      <td>CRA</td>\n",
       "      <td>18</td>\n",
       "      <td>15</td>\n",
       "      <td>89028</td>\n",
       "      <td>63301261100</td>\n",
       "      <td>59352</td>\n",
       "      <td>453534</td>\n",
       "      <td>deprecated</td>\n",
       "      <td>4988514</td>\n",
       "    </tr>\n",
       "    <tr>\n",
       "      <th>1</th>\n",
       "      <td>6894013</td>\n",
       "      <td>2021-11-13 12:51:44</td>\n",
       "      <td>0x333e6cb57d9004197d7759a8d7cac139f2384fcdbca2...</td>\n",
       "      <td>48</td>\n",
       "      <td>0x5873fb0216127d6308bcac65a937d43db5768cfbd51c...</td>\n",
       "      <td>0x833411340061ad00ed79ea3085848b0dee7ebfe8</td>\n",
       "      <td>0xa32608e873f9ddef944b24798db69d80bbb4d1ed</td>\n",
       "      <td>0xa32608e873f9ddef944b24798db69d80bbb4d1ed</td>\n",
       "      <td>6.118805e+20</td>\n",
       "      <td>CRA</td>\n",
       "      <td>CRA</td>\n",
       "      <td>18</td>\n",
       "      <td>21</td>\n",
       "      <td>63378</td>\n",
       "      <td>53428394838</td>\n",
       "      <td>42252</td>\n",
       "      <td>3528880</td>\n",
       "      <td>deprecated</td>\n",
       "      <td>4988325</td>\n",
       "    </tr>\n",
       "    <tr>\n",
       "      <th>2</th>\n",
       "      <td>6894024</td>\n",
       "      <td>2021-11-13 12:52:07</td>\n",
       "      <td>0x86b3af1ba57f402d311967b4b03a8d2c341626214a85...</td>\n",
       "      <td>46</td>\n",
       "      <td>0xb7718777f646be519d5dd4c3597a3da908efe2a8aa40...</td>\n",
       "      <td>0x6195705d9f6e0dc694c63a4d83028b9eacd8c619</td>\n",
       "      <td>0xa32608e873f9ddef944b24798db69d80bbb4d1ed</td>\n",
       "      <td>0xa32608e873f9ddef944b24798db69d80bbb4d1ed</td>\n",
       "      <td>6.118805e+20</td>\n",
       "      <td>CRA</td>\n",
       "      <td>CRA</td>\n",
       "      <td>18</td>\n",
       "      <td>6</td>\n",
       "      <td>63378</td>\n",
       "      <td>55280941438</td>\n",
       "      <td>42252</td>\n",
       "      <td>1620080</td>\n",
       "      <td>deprecated</td>\n",
       "      <td>4988314</td>\n",
       "    </tr>\n",
       "  </tbody>\n",
       "</table>\n",
       "</div>"
      ],
      "text/plain": [
       "   blockNumber           timeStamp  \\\n",
       "0      6893824 2021-11-13 12:45:27   \n",
       "1      6894013 2021-11-13 12:51:44   \n",
       "2      6894024 2021-11-13 12:52:07   \n",
       "\n",
       "                                                hash  nonce  \\\n",
       "0  0xe11cfc0f12a7e14b00379444686156a6ab99771ce4a6...      7   \n",
       "1  0x333e6cb57d9004197d7759a8d7cac139f2384fcdbca2...     48   \n",
       "2  0x86b3af1ba57f402d311967b4b03a8d2c341626214a85...     46   \n",
       "\n",
       "                                           blockHash  \\\n",
       "0  0x6e3c28e15fed6a883869fc6d442ee9957829bd55c828...   \n",
       "1  0x5873fb0216127d6308bcac65a937d43db5768cfbd51c...   \n",
       "2  0xb7718777f646be519d5dd4c3597a3da908efe2a8aa40...   \n",
       "\n",
       "                                         from  \\\n",
       "0  0x777859db1cac47fbe7ceef95434814c349e739bf   \n",
       "1  0x833411340061ad00ed79ea3085848b0dee7ebfe8   \n",
       "2  0x6195705d9f6e0dc694c63a4d83028b9eacd8c619   \n",
       "\n",
       "                                           to  \\\n",
       "0  0xa32608e873f9ddef944b24798db69d80bbb4d1ed   \n",
       "1  0xa32608e873f9ddef944b24798db69d80bbb4d1ed   \n",
       "2  0xa32608e873f9ddef944b24798db69d80bbb4d1ed   \n",
       "\n",
       "                              contractAddress         value tokenName  \\\n",
       "0  0xa32608e873f9ddef944b24798db69d80bbb4d1ed  2.229920e+20       CRA   \n",
       "1  0xa32608e873f9ddef944b24798db69d80bbb4d1ed  6.118805e+20       CRA   \n",
       "2  0xa32608e873f9ddef944b24798db69d80bbb4d1ed  6.118805e+20       CRA   \n",
       "\n",
       "  tokenSymbol  tokenDecimal  transactionIndex    gas     gasPrice  gasUsed  \\\n",
       "0         CRA            18                15  89028  63301261100    59352   \n",
       "1         CRA            18                21  63378  53428394838    42252   \n",
       "2         CRA            18                 6  63378  55280941438    42252   \n",
       "\n",
       "   cumulativeGasUsed       input  confirmations  \n",
       "0             453534  deprecated        4988514  \n",
       "1            3528880  deprecated        4988325  \n",
       "2            1620080  deprecated        4988314  "
      ]
     },
     "execution_count": 183,
     "metadata": {},
     "output_type": "execute_result"
    }
   ],
   "source": [
    "fname = './token_json_data.json'\n",
    "df = pd.read_json(fname, encoding='utf-8-sig')\n",
    "df.info()\n",
    "df.head(3)"
   ]
  },
  {
   "cell_type": "code",
   "execution_count": 44,
   "id": "c57cad00",
   "metadata": {},
   "outputs": [],
   "source": [
    "drawdf = df[:200]\n",
    "G = nx.from_pandas_edgelist(drawdf, source='from', target='to', edge_attr='value')"
   ]
  },
  {
   "cell_type": "code",
   "execution_count": 45,
   "id": "400d4e21",
   "metadata": {},
   "outputs": [
    {
     "data": {
      "image/png": "[encoded data removed]",
      "text/plain": [
       "<Figure size 432x288 with 1 Axes>"
      ]
     },
     "metadata": {},
     "output_type": "display_data"
    }
   ],
   "source": [
    "nx.draw_circular(G)"
   ]
  },
  {
   "cell_type": "code",
   "execution_count": 46,
   "id": "e37a19bf",
   "metadata": {},
   "outputs": [
    {
     "data": {
      "text/html": [
       "\n",
       "        <iframe\n",
       "            width=\"500px\"\n",
       "            height=\"500px\"\n",
       "            src=\"example.html\"\n",
       "            frameborder=\"0\"\n",
       "            allowfullscreen\n",
       "            \n",
       "        ></iframe>\n",
       "        "
      ],
      "text/plain": [
       "<IPython.lib.display.IFrame at 0x7f9da2658c70>"
      ]
     },
     "execution_count": 46,
     "metadata": {},
     "output_type": "execute_result"
    }
   ],
   "source": [
    "net = Network(notebook=True)\n",
    "net.from_nx(G)\n",
    "net.show(\"example.html\")"
   ]
  },
  {
   "cell_type": "code",
   "execution_count": null,
   "id": "126562ff",
   "metadata": {},
   "outputs": [],
   "source": []
  },
  {
   "cell_type": "code",
   "execution_count": null,
   "id": "fa76941e",
   "metadata": {},
   "outputs": [],
   "source": []
  },
  {
   "cell_type": "code",
   "execution_count": 182,
   "id": "24f4a11c",
   "metadata": {},
   "outputs": [
    {
     "data": {
      "text/html": [
       "<div>\n",
       "<style scoped>\n",
       "    .dataframe tbody tr th:only-of-type {\n",
       "        vertical-align: middle;\n",
       "    }\n",
       "\n",
       "    .dataframe tbody tr th {\n",
       "        vertical-align: top;\n",
       "    }\n",
       "\n",
       "    .dataframe thead th {\n",
       "        text-align: right;\n",
       "    }\n",
       "</style>\n",
       "<table border=\"1\" class=\"dataframe\">\n",
       "  <thead>\n",
       "    <tr style=\"text-align: right;\">\n",
       "      <th></th>\n",
       "      <th>blockNumber</th>\n",
       "      <th>timeStamp</th>\n",
       "      <th>hash</th>\n",
       "      <th>nonce</th>\n",
       "      <th>blockHash</th>\n",
       "      <th>from</th>\n",
       "      <th>to</th>\n",
       "      <th>contractAddress</th>\n",
       "      <th>value</th>\n",
       "      <th>tokenName</th>\n",
       "      <th>tokenSymbol</th>\n",
       "      <th>tokenDecimal</th>\n",
       "      <th>transactionIndex</th>\n",
       "      <th>gas</th>\n",
       "      <th>gasPrice</th>\n",
       "      <th>gasUsed</th>\n",
       "      <th>cumulativeGasUsed</th>\n",
       "      <th>input</th>\n",
       "      <th>confirmations</th>\n",
       "    </tr>\n",
       "  </thead>\n",
       "  <tbody>\n",
       "    <tr>\n",
       "      <th>0</th>\n",
       "      <td>3332495</td>\n",
       "      <td>2021-08-25 00:24:43</td>\n",
       "      <td>0x3a7002eeb0e6f0b86e8215b904c1020ffd023b402482...</td>\n",
       "      <td>7</td>\n",
       "      <td>0x38ffd545fec38fe420e84423ff691cadda41a3bfce72...</td>\n",
       "      <td>0xe8c4618a57bddc67a713f466dd44fc53ef80a587</td>\n",
       "      <td>0x6e84a6216ea6dacc71ee8e6b0a5b7322eebc0fdd</td>\n",
       "      <td>0x6e84a6216ea6dacc71ee8e6b0a5b7322eebc0fdd</td>\n",
       "      <td>6.594325e+19</td>\n",
       "      <td>JoeToken</td>\n",
       "      <td>JOE</td>\n",
       "      <td>18</td>\n",
       "      <td>14</td>\n",
       "      <td>77671</td>\n",
       "      <td>225335500000</td>\n",
       "      <td>51781</td>\n",
       "      <td>2221261</td>\n",
       "      <td>deprecated</td>\n",
       "      <td>8549719</td>\n",
       "    </tr>\n",
       "    <tr>\n",
       "      <th>1</th>\n",
       "      <td>4519935</td>\n",
       "      <td>2021-09-18 16:35:28</td>\n",
       "      <td>0xd62b5a59333b3797412467ffda8c530d8a6da0d42540...</td>\n",
       "      <td>3</td>\n",
       "      <td>0x4f586af3424e223d27e8e5a81a4655bf903265c75ac3...</td>\n",
       "      <td>0xbaafb2b7bb32bd322eb15e94113000ebe3c79175</td>\n",
       "      <td>0x6e84a6216ea6dacc71ee8e6b0a5b7322eebc0fdd</td>\n",
       "      <td>0x6e84a6216ea6dacc71ee8e6b0a5b7322eebc0fdd</td>\n",
       "      <td>1.151174e+18</td>\n",
       "      <td>JoeToken</td>\n",
       "      <td>JOE</td>\n",
       "      <td>18</td>\n",
       "      <td>5</td>\n",
       "      <td>34669</td>\n",
       "      <td>102056117841</td>\n",
       "      <td>34669</td>\n",
       "      <td>390861</td>\n",
       "      <td>deprecated</td>\n",
       "      <td>7362279</td>\n",
       "    </tr>\n",
       "    <tr>\n",
       "      <th>2</th>\n",
       "      <td>4750078</td>\n",
       "      <td>2021-09-23 15:55:49</td>\n",
       "      <td>0x5bbc9250fa279604d5e4dd3d103c49156def20d15f27...</td>\n",
       "      <td>68</td>\n",
       "      <td>0x767f12e9016240f49ddca1aef3522545266a040afb24...</td>\n",
       "      <td>0xf91bf03020978842cffa7946b0d561e61a08bf37</td>\n",
       "      <td>0x6e84a6216ea6dacc71ee8e6b0a5b7322eebc0fdd</td>\n",
       "      <td>0x961c8c0b1aad0c0b10a51fef6a867e3091bcef17</td>\n",
       "      <td>1.000000e+18</td>\n",
       "      <td>DeFiYieldProtocol</td>\n",
       "      <td>DYP</td>\n",
       "      <td>18</td>\n",
       "      <td>4</td>\n",
       "      <td>3910986</td>\n",
       "      <td>25000000000</td>\n",
       "      <td>2607023</td>\n",
       "      <td>5959285</td>\n",
       "      <td>deprecated</td>\n",
       "      <td>7132136</td>\n",
       "    </tr>\n",
       "    <tr>\n",
       "      <th>3</th>\n",
       "      <td>4822868</td>\n",
       "      <td>2021-09-25 09:51:57</td>\n",
       "      <td>0x5b166bcae4478f6dab1046c794d6463abc6fab18d464...</td>\n",
       "      <td>27</td>\n",
       "      <td>0x49f9cb27f87ae6ec9e5ba140053878f12d27632160f2...</td>\n",
       "      <td>0x51409a70d3d7c00e0867da008e06d98fbf937e0f</td>\n",
       "      <td>0x6e84a6216ea6dacc71ee8e6b0a5b7322eebc0fdd</td>\n",
       "      <td>0x6e84a6216ea6dacc71ee8e6b0a5b7322eebc0fdd</td>\n",
       "      <td>1.000000e+18</td>\n",
       "      <td>JoeToken</td>\n",
       "      <td>JOE</td>\n",
       "      <td>18</td>\n",
       "      <td>1</td>\n",
       "      <td>51967</td>\n",
       "      <td>27500000000</td>\n",
       "      <td>34645</td>\n",
       "      <td>55645</td>\n",
       "      <td>deprecated</td>\n",
       "      <td>7059346</td>\n",
       "    </tr>\n",
       "    <tr>\n",
       "      <th>4</th>\n",
       "      <td>4919993</td>\n",
       "      <td>2021-09-27 18:08:14</td>\n",
       "      <td>0x7036bf999da0fcd38f694269609ab0092059f37f34ce...</td>\n",
       "      <td>32</td>\n",
       "      <td>0xb9d7bbe69b57a4756abf723171aa640f854cc8e3cf88...</td>\n",
       "      <td>0x48ac9fc31b5aea89560c35b760d155a5321aa4a0</td>\n",
       "      <td>0x6e84a6216ea6dacc71ee8e6b0a5b7322eebc0fdd</td>\n",
       "      <td>0x8729438eb15e2c8b576fcc6aecda6a148776c0f5</td>\n",
       "      <td>3.420000e+20</td>\n",
       "      <td>BENQI</td>\n",
       "      <td>QI</td>\n",
       "      <td>18</td>\n",
       "      <td>2</td>\n",
       "      <td>86151</td>\n",
       "      <td>25000000000</td>\n",
       "      <td>57434</td>\n",
       "      <td>424178</td>\n",
       "      <td>deprecated</td>\n",
       "      <td>6962221</td>\n",
       "    </tr>\n",
       "    <tr>\n",
       "      <th>...</th>\n",
       "      <td>...</td>\n",
       "      <td>...</td>\n",
       "      <td>...</td>\n",
       "      <td>...</td>\n",
       "      <td>...</td>\n",
       "      <td>...</td>\n",
       "      <td>...</td>\n",
       "      <td>...</td>\n",
       "      <td>...</td>\n",
       "      <td>...</td>\n",
       "      <td>...</td>\n",
       "      <td>...</td>\n",
       "      <td>...</td>\n",
       "      <td>...</td>\n",
       "      <td>...</td>\n",
       "      <td>...</td>\n",
       "      <td>...</td>\n",
       "      <td>...</td>\n",
       "      <td>...</td>\n",
       "    </tr>\n",
       "    <tr>\n",
       "      <th>909</th>\n",
       "      <td>11307092</td>\n",
       "      <td>2022-02-23 20:57:52</td>\n",
       "      <td>0xaf601bd76b1bfdf2d6658494162e010cda1e76c8d9ea...</td>\n",
       "      <td>46436</td>\n",
       "      <td>0x8daa470cffd6cc4d0f49424c6d9907bc1a4eb607be91...</td>\n",
       "      <td>0x279f8940ca2a44c35ca3edf7d28945254d0f0ae6</td>\n",
       "      <td>0x6e84a6216ea6dacc71ee8e6b0a5b7322eebc0fdd</td>\n",
       "      <td>0x6e84a6216ea6dacc71ee8e6b0a5b7322eebc0fdd</td>\n",
       "      <td>1.366865e+19</td>\n",
       "      <td>JoeToken</td>\n",
       "      <td>JOE</td>\n",
       "      <td>18</td>\n",
       "      <td>1</td>\n",
       "      <td>59588</td>\n",
       "      <td>150000000000</td>\n",
       "      <td>34657</td>\n",
       "      <td>102832</td>\n",
       "      <td>deprecated</td>\n",
       "      <td>575122</td>\n",
       "    </tr>\n",
       "    <tr>\n",
       "      <th>910</th>\n",
       "      <td>11314462</td>\n",
       "      <td>2022-02-24 01:05:40</td>\n",
       "      <td>0x36e65a9b8dc7851840d904a0b9a5fbceaf469f07565f...</td>\n",
       "      <td>42</td>\n",
       "      <td>0xeb37ebd507ecb03138d004f69ba6c30e0801d05a857b...</td>\n",
       "      <td>0xff3300241495b10a7b818e1ba27e7df00fa2c24f</td>\n",
       "      <td>0x6e84a6216ea6dacc71ee8e6b0a5b7322eebc0fdd</td>\n",
       "      <td>0x88784dc627f0a1ebdd6b470524719c089d18e55e</td>\n",
       "      <td>4.998522e+22</td>\n",
       "      <td>Vegeta Inu</td>\n",
       "      <td>VEGETA</td>\n",
       "      <td>9</td>\n",
       "      <td>15</td>\n",
       "      <td>131536</td>\n",
       "      <td>26986004824</td>\n",
       "      <td>131536</td>\n",
       "      <td>2527880</td>\n",
       "      <td>deprecated</td>\n",
       "      <td>567752</td>\n",
       "    </tr>\n",
       "    <tr>\n",
       "      <th>911</th>\n",
       "      <td>11479630</td>\n",
       "      <td>2022-02-27 22:39:21</td>\n",
       "      <td>0xd1d458e2a6b0b520871bbde92eb3a493db0b83af7c9e...</td>\n",
       "      <td>157</td>\n",
       "      <td>0x730aa8bf89db05eb0e0b7ddd47f876456935cbc5f004...</td>\n",
       "      <td>0xb3e1ead813ebad0416e11bb6e09befb064bf8ec2</td>\n",
       "      <td>0x6e84a6216ea6dacc71ee8e6b0a5b7322eebc0fdd</td>\n",
       "      <td>0x6e84a6216ea6dacc71ee8e6b0a5b7322eebc0fdd</td>\n",
       "      <td>3.386051e+19</td>\n",
       "      <td>JoeToken</td>\n",
       "      <td>JOE</td>\n",
       "      <td>18</td>\n",
       "      <td>4</td>\n",
       "      <td>52021</td>\n",
       "      <td>60027229418</td>\n",
       "      <td>34681</td>\n",
       "      <td>299391</td>\n",
       "      <td>deprecated</td>\n",
       "      <td>402584</td>\n",
       "    </tr>\n",
       "    <tr>\n",
       "      <th>912</th>\n",
       "      <td>11631281</td>\n",
       "      <td>2022-03-03 12:21:28</td>\n",
       "      <td>0xb93604dfbbee0ac0b35930254f839c4059d416c07712...</td>\n",
       "      <td>19</td>\n",
       "      <td>0x079b330b9ba9a792399f820089301bccef70578cc719...</td>\n",
       "      <td>0x352b62e4e6fc29e4ae680127828ea517d4e94eed</td>\n",
       "      <td>0x6e84a6216ea6dacc71ee8e6b0a5b7322eebc0fdd</td>\n",
       "      <td>0x6e84a6216ea6dacc71ee8e6b0a5b7322eebc0fdd</td>\n",
       "      <td>8.000000e+19</td>\n",
       "      <td>JoeToken</td>\n",
       "      <td>JOE</td>\n",
       "      <td>18</td>\n",
       "      <td>28</td>\n",
       "      <td>51985</td>\n",
       "      <td>49296372652</td>\n",
       "      <td>34657</td>\n",
       "      <td>6222702</td>\n",
       "      <td>deprecated</td>\n",
       "      <td>250933</td>\n",
       "    </tr>\n",
       "    <tr>\n",
       "      <th>913</th>\n",
       "      <td>11801447</td>\n",
       "      <td>2022-03-07 11:13:34</td>\n",
       "      <td>0xbf1591dda8786df0e5b3f0ac84a0164dc4dc00e32ed7...</td>\n",
       "      <td>6</td>\n",
       "      <td>0xc14c03d18cc342118c7b365bd0bea0ed7f372d1ff4fb...</td>\n",
       "      <td>0x662df749194defbbac6176907c8aecd315b7273d</td>\n",
       "      <td>0x6e84a6216ea6dacc71ee8e6b0a5b7322eebc0fdd</td>\n",
       "      <td>0x6e84a6216ea6dacc71ee8e6b0a5b7322eebc0fdd</td>\n",
       "      <td>2.409485e+21</td>\n",
       "      <td>JoeToken</td>\n",
       "      <td>JOE</td>\n",
       "      <td>18</td>\n",
       "      <td>7</td>\n",
       "      <td>52021</td>\n",
       "      <td>26500000000</td>\n",
       "      <td>34681</td>\n",
       "      <td>1222952</td>\n",
       "      <td>deprecated</td>\n",
       "      <td>80767</td>\n",
       "    </tr>\n",
       "  </tbody>\n",
       "</table>\n",
       "<p>914 rows × 19 columns</p>\n",
       "</div>"
      ],
      "text/plain": [
       "     blockNumber           timeStamp  \\\n",
       "0        3332495 2021-08-25 00:24:43   \n",
       "1        4519935 2021-09-18 16:35:28   \n",
       "2        4750078 2021-09-23 15:55:49   \n",
       "3        4822868 2021-09-25 09:51:57   \n",
       "4        4919993 2021-09-27 18:08:14   \n",
       "..           ...                 ...   \n",
       "909     11307092 2022-02-23 20:57:52   \n",
       "910     11314462 2022-02-24 01:05:40   \n",
       "911     11479630 2022-02-27 22:39:21   \n",
       "912     11631281 2022-03-03 12:21:28   \n",
       "913     11801447 2022-03-07 11:13:34   \n",
       "\n",
       "                                                  hash  nonce  \\\n",
       "0    0x3a7002eeb0e6f0b86e8215b904c1020ffd023b402482...      7   \n",
       "1    0xd62b5a59333b3797412467ffda8c530d8a6da0d42540...      3   \n",
       "2    0x5bbc9250fa279604d5e4dd3d103c49156def20d15f27...     68   \n",
       "3    0x5b166bcae4478f6dab1046c794d6463abc6fab18d464...     27   \n",
       "4    0x7036bf999da0fcd38f694269609ab0092059f37f34ce...     32   \n",
       "..                                                 ...    ...   \n",
       "909  0xaf601bd76b1bfdf2d6658494162e010cda1e76c8d9ea...  46436   \n",
       "910  0x36e65a9b8dc7851840d904a0b9a5fbceaf469f07565f...     42   \n",
       "911  0xd1d458e2a6b0b520871bbde92eb3a493db0b83af7c9e...    157   \n",
       "912  0xb93604dfbbee0ac0b35930254f839c4059d416c07712...     19   \n",
       "913  0xbf1591dda8786df0e5b3f0ac84a0164dc4dc00e32ed7...      6   \n",
       "\n",
       "                                             blockHash  \\\n",
       "0    0x38ffd545fec38fe420e84423ff691cadda41a3bfce72...   \n",
       "1    0x4f586af3424e223d27e8e5a81a4655bf903265c75ac3...   \n",
       "2    0x767f12e9016240f49ddca1aef3522545266a040afb24...   \n",
       "3    0x49f9cb27f87ae6ec9e5ba140053878f12d27632160f2...   \n",
       "4    0xb9d7bbe69b57a4756abf723171aa640f854cc8e3cf88...   \n",
       "..                                                 ...   \n",
       "909  0x8daa470cffd6cc4d0f49424c6d9907bc1a4eb607be91...   \n",
       "910  0xeb37ebd507ecb03138d004f69ba6c30e0801d05a857b...   \n",
       "911  0x730aa8bf89db05eb0e0b7ddd47f876456935cbc5f004...   \n",
       "912  0x079b330b9ba9a792399f820089301bccef70578cc719...   \n",
       "913  0xc14c03d18cc342118c7b365bd0bea0ed7f372d1ff4fb...   \n",
       "\n",
       "                                           from  \\\n",
       "0    0xe8c4618a57bddc67a713f466dd44fc53ef80a587   \n",
       "1    0xbaafb2b7bb32bd322eb15e94113000ebe3c79175   \n",
       "2    0xf91bf03020978842cffa7946b0d561e61a08bf37   \n",
       "3    0x51409a70d3d7c00e0867da008e06d98fbf937e0f   \n",
       "4    0x48ac9fc31b5aea89560c35b760d155a5321aa4a0   \n",
       "..                                          ...   \n",
       "909  0x279f8940ca2a44c35ca3edf7d28945254d0f0ae6   \n",
       "910  0xff3300241495b10a7b818e1ba27e7df00fa2c24f   \n",
       "911  0xb3e1ead813ebad0416e11bb6e09befb064bf8ec2   \n",
       "912  0x352b62e4e6fc29e4ae680127828ea517d4e94eed   \n",
       "913  0x662df749194defbbac6176907c8aecd315b7273d   \n",
       "\n",
       "                                             to  \\\n",
       "0    0x6e84a6216ea6dacc71ee8e6b0a5b7322eebc0fdd   \n",
       "1    0x6e84a6216ea6dacc71ee8e6b0a5b7322eebc0fdd   \n",
       "2    0x6e84a6216ea6dacc71ee8e6b0a5b7322eebc0fdd   \n",
       "3    0x6e84a6216ea6dacc71ee8e6b0a5b7322eebc0fdd   \n",
       "4    0x6e84a6216ea6dacc71ee8e6b0a5b7322eebc0fdd   \n",
       "..                                          ...   \n",
       "909  0x6e84a6216ea6dacc71ee8e6b0a5b7322eebc0fdd   \n",
       "910  0x6e84a6216ea6dacc71ee8e6b0a5b7322eebc0fdd   \n",
       "911  0x6e84a6216ea6dacc71ee8e6b0a5b7322eebc0fdd   \n",
       "912  0x6e84a6216ea6dacc71ee8e6b0a5b7322eebc0fdd   \n",
       "913  0x6e84a6216ea6dacc71ee8e6b0a5b7322eebc0fdd   \n",
       "\n",
       "                                contractAddress         value  \\\n",
       "0    0x6e84a6216ea6dacc71ee8e6b0a5b7322eebc0fdd  6.594325e+19   \n",
       "1    0x6e84a6216ea6dacc71ee8e6b0a5b7322eebc0fdd  1.151174e+18   \n",
       "2    0x961c8c0b1aad0c0b10a51fef6a867e3091bcef17  1.000000e+18   \n",
       "3    0x6e84a6216ea6dacc71ee8e6b0a5b7322eebc0fdd  1.000000e+18   \n",
       "4    0x8729438eb15e2c8b576fcc6aecda6a148776c0f5  3.420000e+20   \n",
       "..                                          ...           ...   \n",
       "909  0x6e84a6216ea6dacc71ee8e6b0a5b7322eebc0fdd  1.366865e+19   \n",
       "910  0x88784dc627f0a1ebdd6b470524719c089d18e55e  4.998522e+22   \n",
       "911  0x6e84a6216ea6dacc71ee8e6b0a5b7322eebc0fdd  3.386051e+19   \n",
       "912  0x6e84a6216ea6dacc71ee8e6b0a5b7322eebc0fdd  8.000000e+19   \n",
       "913  0x6e84a6216ea6dacc71ee8e6b0a5b7322eebc0fdd  2.409485e+21   \n",
       "\n",
       "             tokenName tokenSymbol  tokenDecimal  transactionIndex      gas  \\\n",
       "0             JoeToken         JOE            18                14    77671   \n",
       "1             JoeToken         JOE            18                 5    34669   \n",
       "2    DeFiYieldProtocol         DYP            18                 4  3910986   \n",
       "3             JoeToken         JOE            18                 1    51967   \n",
       "4                BENQI          QI            18                 2    86151   \n",
       "..                 ...         ...           ...               ...      ...   \n",
       "909           JoeToken         JOE            18                 1    59588   \n",
       "910         Vegeta Inu      VEGETA             9                15   131536   \n",
       "911           JoeToken         JOE            18                 4    52021   \n",
       "912           JoeToken         JOE            18                28    51985   \n",
       "913           JoeToken         JOE            18                 7    52021   \n",
       "\n",
       "         gasPrice  gasUsed  cumulativeGasUsed       input  confirmations  \n",
       "0    225335500000    51781            2221261  deprecated        8549719  \n",
       "1    102056117841    34669             390861  deprecated        7362279  \n",
       "2     25000000000  2607023            5959285  deprecated        7132136  \n",
       "3     27500000000    34645              55645  deprecated        7059346  \n",
       "4     25000000000    57434             424178  deprecated        6962221  \n",
       "..            ...      ...                ...         ...            ...  \n",
       "909  150000000000    34657             102832  deprecated         575122  \n",
       "910   26986004824   131536            2527880  deprecated         567752  \n",
       "911   60027229418    34681             299391  deprecated         402584  \n",
       "912   49296372652    34657            6222702  deprecated         250933  \n",
       "913   26500000000    34681            1222952  deprecated          80767  \n",
       "\n",
       "[914 rows x 19 columns]"
      ]
     },
     "execution_count": 182,
     "metadata": {},
     "output_type": "execute_result"
    }
   ],
   "source": [
    "df"
   ]
  },
  {
   "cell_type": "markdown",
   "id": "19564461",
   "metadata": {},
   "source": [
    "## Account level analysis"
   ]
  },
  {
   "cell_type": "code",
   "execution_count": 131,
   "id": "fc52c48c",
   "metadata": {},
   "outputs": [
    {
     "name": "stdout",
     "output_type": "stream",
     "text": [
      "<class 'pandas.core.frame.DataFrame'>\n",
      "RangeIndex: 688 entries, 0 to 687\n",
      "Data columns (total 19 columns):\n",
      " #   Column             Non-Null Count  Dtype         \n",
      "---  ------             --------------  -----         \n",
      " 0   blockNumber        688 non-null    int64         \n",
      " 1   timeStamp          688 non-null    datetime64[ns]\n",
      " 2   hash               688 non-null    object        \n",
      " 3   nonce              688 non-null    int64         \n",
      " 4   blockHash          688 non-null    object        \n",
      " 5   from               688 non-null    object        \n",
      " 6   contractAddress    688 non-null    object        \n",
      " 7   to                 688 non-null    object        \n",
      " 8   value              688 non-null    float64       \n",
      " 9   tokenName          688 non-null    object        \n",
      " 10  tokenSymbol        688 non-null    object        \n",
      " 11  tokenDecimal       688 non-null    int64         \n",
      " 12  transactionIndex   688 non-null    int64         \n",
      " 13  gas                688 non-null    int64         \n",
      " 14  gasPrice           688 non-null    int64         \n",
      " 15  gasUsed            688 non-null    int64         \n",
      " 16  cumulativeGasUsed  688 non-null    int64         \n",
      " 17  input              688 non-null    object        \n",
      " 18  confirmations      688 non-null    int64         \n",
      "dtypes: datetime64[ns](1), float64(1), int64(9), object(8)\n",
      "memory usage: 102.2+ KB\n"
     ]
    },
    {
     "data": {
      "text/html": [
       "<div>\n",
       "<style scoped>\n",
       "    .dataframe tbody tr th:only-of-type {\n",
       "        vertical-align: middle;\n",
       "    }\n",
       "\n",
       "    .dataframe tbody tr th {\n",
       "        vertical-align: top;\n",
       "    }\n",
       "\n",
       "    .dataframe thead th {\n",
       "        text-align: right;\n",
       "    }\n",
       "</style>\n",
       "<table border=\"1\" class=\"dataframe\">\n",
       "  <thead>\n",
       "    <tr style=\"text-align: right;\">\n",
       "      <th></th>\n",
       "      <th>blockNumber</th>\n",
       "      <th>timeStamp</th>\n",
       "      <th>hash</th>\n",
       "      <th>nonce</th>\n",
       "      <th>blockHash</th>\n",
       "      <th>from</th>\n",
       "      <th>contractAddress</th>\n",
       "      <th>to</th>\n",
       "      <th>value</th>\n",
       "      <th>tokenName</th>\n",
       "      <th>tokenSymbol</th>\n",
       "      <th>tokenDecimal</th>\n",
       "      <th>transactionIndex</th>\n",
       "      <th>gas</th>\n",
       "      <th>gasPrice</th>\n",
       "      <th>gasUsed</th>\n",
       "      <th>cumulativeGasUsed</th>\n",
       "      <th>input</th>\n",
       "      <th>confirmations</th>\n",
       "    </tr>\n",
       "  </thead>\n",
       "  <tbody>\n",
       "    <tr>\n",
       "      <th>0</th>\n",
       "      <td>7096173</td>\n",
       "      <td>2021-11-18 05:57:08</td>\n",
       "      <td>0xb52788145ba9837081c35a3afdc5f081d6b279f1d16f...</td>\n",
       "      <td>280616</td>\n",
       "      <td>0x8074d42b7a23ea6a3f245836cb1852b5a024df06e1ab...</td>\n",
       "      <td>0x0000000000000000000000000000000000000000</td>\n",
       "      <td>0x49d5c2bdffac6ce2bfdb6640f4f80f226bc10bab</td>\n",
       "      <td>0xf143d906c7c25eef8324c47d87ca700d2f98c221</td>\n",
       "      <td>1.192963e+17</td>\n",
       "      <td>Wrapped Ether</td>\n",
       "      <td>WETH.e</td>\n",
       "      <td>18</td>\n",
       "      <td>7</td>\n",
       "      <td>300000</td>\n",
       "      <td>36642045865</td>\n",
       "      <td>66669</td>\n",
       "      <td>985908</td>\n",
       "      <td>deprecated</td>\n",
       "      <td>4658837</td>\n",
       "    </tr>\n",
       "    <tr>\n",
       "      <th>1</th>\n",
       "      <td>7096211</td>\n",
       "      <td>2021-11-18 05:58:23</td>\n",
       "      <td>0x327190ef271d63c66119136cdc0258ecee037d7e53a1...</td>\n",
       "      <td>1</td>\n",
       "      <td>0x4ab038afa6b837ca137e6abed906e4289bcf505d3f62...</td>\n",
       "      <td>0xf143d906c7c25eef8324c47d87ca700d2f98c221</td>\n",
       "      <td>0x49d5c2bdffac6ce2bfdb6640f4f80f226bc10bab</td>\n",
       "      <td>0xfe15c2695f1f920da45c30aae47d11de51007af9</td>\n",
       "      <td>1.192963e+17</td>\n",
       "      <td>Wrapped Ether</td>\n",
       "      <td>WETH.e</td>\n",
       "      <td>18</td>\n",
       "      <td>4</td>\n",
       "      <td>174086</td>\n",
       "      <td>34111406066</td>\n",
       "      <td>143190</td>\n",
       "      <td>2201899</td>\n",
       "      <td>deprecated</td>\n",
       "      <td>4658799</td>\n",
       "    </tr>\n",
       "    <tr>\n",
       "      <th>2</th>\n",
       "      <td>7096237</td>\n",
       "      <td>2021-11-18 05:59:15</td>\n",
       "      <td>0xc5a5451976bfc5139745cad56ed055dfdab9e6453631...</td>\n",
       "      <td>2</td>\n",
       "      <td>0xca5421f6e3ae3a1509975f363e84e8b89832e0ffddad...</td>\n",
       "      <td>0x781655d802670bba3c89aebaaea59d3182fd755d</td>\n",
       "      <td>0x130966628846bfd36ff31a822705796e8cb8c18d</td>\n",
       "      <td>0xf143d906c7c25eef8324c47d87ca700d2f98c221</td>\n",
       "      <td>5.007813e+20</td>\n",
       "      <td>Magic Internet Money</td>\n",
       "      <td>MIM</td>\n",
       "      <td>18</td>\n",
       "      <td>17</td>\n",
       "      <td>174211</td>\n",
       "      <td>35397645637</td>\n",
       "      <td>131828</td>\n",
       "      <td>2525336</td>\n",
       "      <td>deprecated</td>\n",
       "      <td>4658773</td>\n",
       "    </tr>\n",
       "  </tbody>\n",
       "</table>\n",
       "</div>"
      ],
      "text/plain": [
       "   blockNumber           timeStamp  \\\n",
       "0      7096173 2021-11-18 05:57:08   \n",
       "1      7096211 2021-11-18 05:58:23   \n",
       "2      7096237 2021-11-18 05:59:15   \n",
       "\n",
       "                                                hash   nonce  \\\n",
       "0  0xb52788145ba9837081c35a3afdc5f081d6b279f1d16f...  280616   \n",
       "1  0x327190ef271d63c66119136cdc0258ecee037d7e53a1...       1   \n",
       "2  0xc5a5451976bfc5139745cad56ed055dfdab9e6453631...       2   \n",
       "\n",
       "                                           blockHash  \\\n",
       "0  0x8074d42b7a23ea6a3f245836cb1852b5a024df06e1ab...   \n",
       "1  0x4ab038afa6b837ca137e6abed906e4289bcf505d3f62...   \n",
       "2  0xca5421f6e3ae3a1509975f363e84e8b89832e0ffddad...   \n",
       "\n",
       "                                         from  \\\n",
       "0  0x0000000000000000000000000000000000000000   \n",
       "1  0xf143d906c7c25eef8324c47d87ca700d2f98c221   \n",
       "2  0x781655d802670bba3c89aebaaea59d3182fd755d   \n",
       "\n",
       "                              contractAddress  \\\n",
       "0  0x49d5c2bdffac6ce2bfdb6640f4f80f226bc10bab   \n",
       "1  0x49d5c2bdffac6ce2bfdb6640f4f80f226bc10bab   \n",
       "2  0x130966628846bfd36ff31a822705796e8cb8c18d   \n",
       "\n",
       "                                           to         value  \\\n",
       "0  0xf143d906c7c25eef8324c47d87ca700d2f98c221  1.192963e+17   \n",
       "1  0xfe15c2695f1f920da45c30aae47d11de51007af9  1.192963e+17   \n",
       "2  0xf143d906c7c25eef8324c47d87ca700d2f98c221  5.007813e+20   \n",
       "\n",
       "              tokenName tokenSymbol  tokenDecimal  transactionIndex     gas  \\\n",
       "0         Wrapped Ether      WETH.e            18                 7  300000   \n",
       "1         Wrapped Ether      WETH.e            18                 4  174086   \n",
       "2  Magic Internet Money         MIM            18                17  174211   \n",
       "\n",
       "      gasPrice  gasUsed  cumulativeGasUsed       input  confirmations  \n",
       "0  36642045865    66669             985908  deprecated        4658837  \n",
       "1  34111406066   143190            2201899  deprecated        4658799  \n",
       "2  35397645637   131828            2525336  deprecated        4658773  "
      ]
     },
     "execution_count": 131,
     "metadata": {},
     "output_type": "execute_result"
    }
   ],
   "source": [
    "fname = './account_json_data.json'\n",
    "df = pd.read_json(fname, encoding='utf-8-sig')\n",
    "df.info()\n",
    "df.head(3)"
   ]
  },
  {
   "cell_type": "code",
   "execution_count": 132,
   "id": "e3747cd7",
   "metadata": {},
   "outputs": [
    {
     "name": "stdout",
     "output_type": "stream",
     "text": [
      "Owner: 0xf143d906c7c25eef8324c47d87ca700d2f98c221\n"
     ]
    }
   ],
   "source": [
    "# Get owner\n",
    "owner = df['from'].value_counts().index[0] # soft coded\n",
    "print('Owner:', owner)"
   ]
  },
  {
   "cell_type": "code",
   "execution_count": 133,
   "id": "93630ee2",
   "metadata": {},
   "outputs": [
    {
     "name": "stdout",
     "output_type": "stream",
     "text": [
      "['WETH.e' 'MIM' 'SDOG' 'sSDOG' 'SB' 'TIME' 'sSB' 'MEMO' 'USDT.e' 'aWOOL'\n",
      " 'WAVAX' 'CCC' 'USDC.e' 'DAI.e' 'sMAXI' 'BRIG' 'LF' 'TEMPO' 'sTEMPO'\n",
      " 'MAXI' 'JOE' 'xJOE' 'jMIM' 'jXJOE' 'jAVAX' 'YRT' 'LINK.e' 'PTP' 'JLP'\n",
      " 'wMEMO' 'anywMEMO' 'FRM' 'UST' 'USDC' '3ULL' 'BSGG' 'MAGIA' 'MIND'\n",
      " 'KRATOS' 'THOR' 'mooJoePTP-AVAX' 'SOL' 'COOKBOOK' 'CLAIMSTONE' 'ELXR'\n",
      " 'Opendao.is' 'BLOOD' 'ANTG' 'SUGA' 'xPTP' 'VTX']\n"
     ]
    }
   ],
   "source": [
    "# Get traded tokens\n",
    "traded_tokens = df['tokenSymbol'].unique()\n",
    "print(traded_tokens)"
   ]
  },
  {
   "cell_type": "code",
   "execution_count": 134,
   "id": "5676133e",
   "metadata": {},
   "outputs": [],
   "source": [
    "# Get buy/sell actions\n",
    "def get_action(to, owner):\n",
    "    if (to == owner):\n",
    "        action = 'buy'\n",
    "    else:\n",
    "        action = 'sell'\n",
    "    return action\n",
    "\n",
    "df['action'] = df['to'].apply(lambda x: get_action(x, owner))"
   ]
  },
  {
   "cell_type": "code",
   "execution_count": 135,
   "id": "72da8ac9",
   "metadata": {},
   "outputs": [],
   "source": [
    "# Get token balance\n",
    "def get_balance(action, value, decimal):\n",
    "    delta = value / 10**decimal\n",
    "    if (action == 'sell'):\n",
    "        delta = delta * -1\n",
    "    return delta\n",
    "df['delta'] = df.apply(lambda x: get_balance(x['action'], x['value'], x['tokenDecimal']), axis=1)"
   ]
  },
  {
   "cell_type": "code",
   "execution_count": 178,
   "id": "ec1baa29",
   "metadata": {},
   "outputs": [
    {
     "data": {
      "application/vnd.plotly.v1+json": {
       "config": {
        "plotlyServerURL": "https://plot.ly"
       },
       "data": [
        {
         "connector": {
          "line": {
           "color": "rgb(63, 63, 63)"
          }
         },
         "measure": [
          "relative",
          "relative",
          "relative",
          "relative",
          "relative",
          "relative",
          "relative",
          "relative",
          "relative",
          "relative",
          "relative",
          "relative",
          "relative",
          "relative",
          "relative",
          "relative",
          "relative",
          "relative",
          "relative",
          "relative",
          "relative"
         ],
         "name": "WAVAX",
         "orientation": "v",
         "text": [
          "-8.6",
          "0.8",
          "-0.8",
          "0.6",
          "-0.6",
          "8.6",
          "-8.6",
          "0.0",
          "0.0",
          "4.0",
          "-3.3",
          "4.7",
          "4.2",
          "0.6",
          "0.6",
          "1.9",
          "-1.9",
          "1.9",
          "2.5",
          "2.6",
          "1.7"
         ],
         "textposition": "outside",
         "type": "waterfall",
         "x": [
          0,
          1,
          2,
          3,
          4,
          5,
          6,
          7,
          8,
          9,
          10,
          11,
          12,
          13,
          14,
          15,
          16,
          17,
          18,
          19,
          20
         ],
         "y": [
          -8.593727286632191,
          0.7709825685309962,
          -0.7709825685,
          0.5519898569680657,
          -0.551989856999062,
          8.594157552764889,
          -8.5941575527,
          0.012710319747636948,
          0.01359424998056728,
          4,
          -3.311342118321716,
          4.655,
          4.240705,
          0.60515,
          0.60515,
          1.9,
          -1.9,
          1.862,
          2.50439,
          2.552802,
          1.71
         ]
        }
       ],
       "layout": {
        "template": {
         "data": {
          "bar": [
           {
            "error_x": {
             "color": "#2a3f5f"
            },
            "error_y": {
             "color": "#2a3f5f"
            },
            "marker": {
             "line": {
              "color": "#E5ECF6",
              "width": 0.5
             },
             "pattern": {
              "fillmode": "overlay",
              "size": 10,
              "solidity": 0.2
             }
            },
            "type": "bar"
           }
          ],
          "barpolar": [
           {
            "marker": {
             "line": {
              "color": "#E5ECF6",
              "width": 0.5
             },
             "pattern": {
              "fillmode": "overlay",
              "size": 10,
              "solidity": 0.2
             }
            },
            "type": "barpolar"
           }
          ],
          "carpet": [
           {
            "aaxis": {
             "endlinecolor": "#2a3f5f",
             "gridcolor": "white",
             "linecolor": "white",
             "minorgridcolor": "white",
             "startlinecolor": "#2a3f5f"
            },
            "baxis": {
             "endlinecolor": "#2a3f5f",
             "gridcolor": "white",
             "linecolor": "white",
             "minorgridcolor": "white",
             "startlinecolor": "#2a3f5f"
            },
            "type": "carpet"
           }
          ],
          "choropleth": [
           {
            "colorbar": {
             "outlinewidth": 0,
             "ticks": ""
            },
            "type": "choropleth"
           }
          ],
          "contour": [
           {
            "colorbar": {
             "outlinewidth": 0,
             "ticks": ""
            },
            "colorscale": [
             [
              0,
              "#0d0887"
             ],
             [
              0.1111111111111111,
              "#46039f"
             ],
             [
              0.2222222222222222,
              "#7201a8"
             ],
             [
              0.3333333333333333,
              "#9c179e"
             ],
             [
              0.4444444444444444,
              "#bd3786"
             ],
             [
              0.5555555555555556,
              "#d8576b"
             ],
             [
              0.6666666666666666,
              "#ed7953"
             ],
             [
              0.7777777777777778,
              "#fb9f3a"
             ],
             [
              0.8888888888888888,
              "#fdca26"
             ],
             [
              1,
              "#f0f921"
             ]
            ],
            "type": "contour"
           }
          ],
          "contourcarpet": [
           {
            "colorbar": {
             "outlinewidth": 0,
             "ticks": ""
            },
            "type": "contourcarpet"
           }
          ],
          "heatmap": [
           {
            "colorbar": {
             "outlinewidth": 0,
             "ticks": ""
            },
            "colorscale": [
             [
              0,
              "#0d0887"
             ],
             [
              0.1111111111111111,
              "#46039f"
             ],
             [
              0.2222222222222222,
              "#7201a8"
             ],
             [
              0.3333333333333333,
              "#9c179e"
             ],
             [
              0.4444444444444444,
              "#bd3786"
             ],
             [
              0.5555555555555556,
              "#d8576b"
             ],
             [
              0.6666666666666666,
              "#ed7953"
             ],
             [
              0.7777777777777778,
              "#fb9f3a"
             ],
             [
              0.8888888888888888,
              "#fdca26"
             ],
             [
              1,
              "#f0f921"
             ]
            ],
            "type": "heatmap"
           }
          ],
          "heatmapgl": [
           {
            "colorbar": {
             "outlinewidth": 0,
             "ticks": ""
            },
            "colorscale": [
             [
              0,
              "#0d0887"
             ],
             [
              0.1111111111111111,
              "#46039f"
             ],
             [
              0.2222222222222222,
              "#7201a8"
             ],
             [
              0.3333333333333333,
              "#9c179e"
             ],
             [
              0.4444444444444444,
              "#bd3786"
             ],
             [
              0.5555555555555556,
              "#d8576b"
             ],
             [
              0.6666666666666666,
              "#ed7953"
             ],
             [
              0.7777777777777778,
              "#fb9f3a"
             ],
             [
              0.8888888888888888,
              "#fdca26"
             ],
             [
              1,
              "#f0f921"
             ]
            ],
            "type": "heatmapgl"
           }
          ],
          "histogram": [
           {
            "marker": {
             "pattern": {
              "fillmode": "overlay",
              "size": 10,
              "solidity": 0.2
             }
            },
            "type": "histogram"
           }
          ],
          "histogram2d": [
           {
            "colorbar": {
             "outlinewidth": 0,
             "ticks": ""
            },
            "colorscale": [
             [
              0,
              "#0d0887"
             ],
             [
              0.1111111111111111,
              "#46039f"
             ],
             [
              0.2222222222222222,
              "#7201a8"
             ],
             [
              0.3333333333333333,
              "#9c179e"
             ],
             [
              0.4444444444444444,
              "#bd3786"
             ],
             [
              0.5555555555555556,
              "#d8576b"
             ],
             [
              0.6666666666666666,
              "#ed7953"
             ],
             [
              0.7777777777777778,
              "#fb9f3a"
             ],
             [
              0.8888888888888888,
              "#fdca26"
             ],
             [
              1,
              "#f0f921"
             ]
            ],
            "type": "histogram2d"
           }
          ],
          "histogram2dcontour": [
           {
            "colorbar": {
             "outlinewidth": 0,
             "ticks": ""
            },
            "colorscale": [
             [
              0,
              "#0d0887"
             ],
             [
              0.1111111111111111,
              "#46039f"
             ],
             [
              0.2222222222222222,
              "#7201a8"
             ],
             [
              0.3333333333333333,
              "#9c179e"
             ],
             [
              0.4444444444444444,
              "#bd3786"
             ],
             [
              0.5555555555555556,
              "#d8576b"
             ],
             [
              0.6666666666666666,
              "#ed7953"
             ],
             [
              0.7777777777777778,
              "#fb9f3a"
             ],
             [
              0.8888888888888888,
              "#fdca26"
             ],
             [
              1,
              "#f0f921"
             ]
            ],
            "type": "histogram2dcontour"
           }
          ],
          "mesh3d": [
           {
            "colorbar": {
             "outlinewidth": 0,
             "ticks": ""
            },
            "type": "mesh3d"
           }
          ],
          "parcoords": [
           {
            "line": {
             "colorbar": {
              "outlinewidth": 0,
              "ticks": ""
             }
            },
            "type": "parcoords"
           }
          ],
          "pie": [
           {
            "automargin": true,
            "type": "pie"
           }
          ],
          "scatter": [
           {
            "marker": {
             "colorbar": {
              "outlinewidth": 0,
              "ticks": ""
             }
            },
            "type": "scatter"
           }
          ],
          "scatter3d": [
           {
            "line": {
             "colorbar": {
              "outlinewidth": 0,
              "ticks": ""
             }
            },
            "marker": {
             "colorbar": {
              "outlinewidth": 0,
              "ticks": ""
             }
            },
            "type": "scatter3d"
           }
          ],
          "scattercarpet": [
           {
            "marker": {
             "colorbar": {
              "outlinewidth": 0,
              "ticks": ""
             }
            },
            "type": "scattercarpet"
           }
          ],
          "scattergeo": [
           {
            "marker": {
             "colorbar": {
              "outlinewidth": 0,
              "ticks": ""
             }
            },
            "type": "scattergeo"
           }
          ],
          "scattergl": [
           {
            "marker": {
             "colorbar": {
              "outlinewidth": 0,
              "ticks": ""
             }
            },
            "type": "scattergl"
           }
          ],
          "scattermapbox": [
           {
            "marker": {
             "colorbar": {
              "outlinewidth": 0,
              "ticks": ""
             }
            },
            "type": "scattermapbox"
           }
          ],
          "scatterpolar": [
           {
            "marker": {
             "colorbar": {
              "outlinewidth": 0,
              "ticks": ""
             }
            },
            "type": "scatterpolar"
           }
          ],
          "scatterpolargl": [
           {
            "marker": {
             "colorbar": {
              "outlinewidth": 0,
              "ticks": ""
             }
            },
            "type": "scatterpolargl"
           }
          ],
          "scatterternary": [
           {
            "marker": {
             "colorbar": {
              "outlinewidth": 0,
              "ticks": ""
             }
            },
            "type": "scatterternary"
           }
          ],
          "surface": [
           {
            "colorbar": {
             "outlinewidth": 0,
             "ticks": ""
            },
            "colorscale": [
             [
              0,
              "#0d0887"
             ],
             [
              0.1111111111111111,
              "#46039f"
             ],
             [
              0.2222222222222222,
              "#7201a8"
             ],
             [
              0.3333333333333333,
              "#9c179e"
             ],
             [
              0.4444444444444444,
              "#bd3786"
             ],
             [
              0.5555555555555556,
              "#d8576b"
             ],
             [
              0.6666666666666666,
              "#ed7953"
             ],
             [
              0.7777777777777778,
              "#fb9f3a"
             ],
             [
              0.8888888888888888,
              "#fdca26"
             ],
             [
              1,
              "#f0f921"
             ]
            ],
            "type": "surface"
           }
          ],
          "table": [
           {
            "cells": {
             "fill": {
              "color": "#EBF0F8"
             },
             "line": {
              "color": "white"
             }
            },
            "header": {
             "fill": {
              "color": "#C8D4E3"
             },
             "line": {
              "color": "white"
             }
            },
            "type": "table"
           }
          ]
         },
         "layout": {
          "annotationdefaults": {
           "arrowcolor": "#2a3f5f",
           "arrowhead": 0,
           "arrowwidth": 1
          },
          "autotypenumbers": "strict",
          "coloraxis": {
           "colorbar": {
            "outlinewidth": 0,
            "ticks": ""
           }
          },
          "colorscale": {
           "diverging": [
            [
             0,
             "#8e0152"
            ],
            [
             0.1,
             "#c51b7d"
            ],
            [
             0.2,
             "#de77ae"
            ],
            [
             0.3,
             "#f1b6da"
            ],
            [
             0.4,
             "#fde0ef"
            ],
            [
             0.5,
             "#f7f7f7"
            ],
            [
             0.6,
             "#e6f5d0"
            ],
            [
             0.7,
             "#b8e186"
            ],
            [
             0.8,
             "#7fbc41"
            ],
            [
             0.9,
             "#4d9221"
            ],
            [
             1,
             "#276419"
            ]
           ],
           "sequential": [
            [
             0,
             "#0d0887"
            ],
            [
             0.1111111111111111,
             "#46039f"
            ],
            [
             0.2222222222222222,
             "#7201a8"
            ],
            [
             0.3333333333333333,
             "#9c179e"
            ],
            [
             0.4444444444444444,
             "#bd3786"
            ],
            [
             0.5555555555555556,
             "#d8576b"
            ],
            [
             0.6666666666666666,
             "#ed7953"
            ],
            [
             0.7777777777777778,
             "#fb9f3a"
            ],
            [
             0.8888888888888888,
             "#fdca26"
            ],
            [
             1,
             "#f0f921"
            ]
           ],
           "sequentialminus": [
            [
             0,
             "#0d0887"
            ],
            [
             0.1111111111111111,
             "#46039f"
            ],
            [
             0.2222222222222222,
             "#7201a8"
            ],
            [
             0.3333333333333333,
             "#9c179e"
            ],
            [
             0.4444444444444444,
             "#bd3786"
            ],
            [
             0.5555555555555556,
             "#d8576b"
            ],
            [
             0.6666666666666666,
             "#ed7953"
            ],
            [
             0.7777777777777778,
             "#fb9f3a"
            ],
            [
             0.8888888888888888,
             "#fdca26"
            ],
            [
             1,
             "#f0f921"
            ]
           ]
          },
          "colorway": [
           "#636efa",
           "#EF553B",
           "#00cc96",
           "#ab63fa",
           "#FFA15A",
           "#19d3f3",
           "#FF6692",
           "#B6E880",
           "#FF97FF",
           "#FECB52"
          ],
          "font": {
           "color": "#2a3f5f"
          },
          "geo": {
           "bgcolor": "white",
           "lakecolor": "white",
           "landcolor": "#E5ECF6",
           "showlakes": true,
           "showland": true,
           "subunitcolor": "white"
          },
          "hoverlabel": {
           "align": "left"
          },
          "hovermode": "closest",
          "mapbox": {
           "style": "light"
          },
          "paper_bgcolor": "white",
          "plot_bgcolor": "#E5ECF6",
          "polar": {
           "angularaxis": {
            "gridcolor": "white",
            "linecolor": "white",
            "ticks": ""
           },
           "bgcolor": "#E5ECF6",
           "radialaxis": {
            "gridcolor": "white",
            "linecolor": "white",
            "ticks": ""
           }
          },
          "scene": {
           "xaxis": {
            "backgroundcolor": "#E5ECF6",
            "gridcolor": "white",
            "gridwidth": 2,
            "linecolor": "white",
            "showbackground": true,
            "ticks": "",
            "zerolinecolor": "white"
           },
           "yaxis": {
            "backgroundcolor": "#E5ECF6",
            "gridcolor": "white",
            "gridwidth": 2,
            "linecolor": "white",
            "showbackground": true,
            "ticks": "",
            "zerolinecolor": "white"
           },
           "zaxis": {
            "backgroundcolor": "#E5ECF6",
            "gridcolor": "white",
            "gridwidth": 2,
            "linecolor": "white",
            "showbackground": true,
            "ticks": "",
            "zerolinecolor": "white"
           }
          },
          "shapedefaults": {
           "line": {
            "color": "#2a3f5f"
           }
          },
          "ternary": {
           "aaxis": {
            "gridcolor": "white",
            "linecolor": "white",
            "ticks": ""
           },
           "baxis": {
            "gridcolor": "white",
            "linecolor": "white",
            "ticks": ""
           },
           "bgcolor": "#E5ECF6",
           "caxis": {
            "gridcolor": "white",
            "linecolor": "white",
            "ticks": ""
           }
          },
          "title": {
           "x": 0.05
          },
          "xaxis": {
           "automargin": true,
           "gridcolor": "white",
           "linecolor": "white",
           "ticks": "",
           "title": {
            "standoff": 15
           },
           "zerolinecolor": "white",
           "zerolinewidth": 2
          },
          "yaxis": {
           "automargin": true,
           "gridcolor": "white",
           "linecolor": "white",
           "ticks": "",
           "title": {
            "standoff": 15
           },
           "zerolinecolor": "white",
           "zerolinewidth": 2
          }
         }
        },
        "title": {
         "text": "Purchases and sales of $WAVAX"
        }
       }
      },
      "text/html": [
       "<div>                            <div id=\"3363bc5c-5e7b-4aad-b8db-20494c492667\" class=\"plotly-graph-div\" style=\"height:525px; width:100%;\"></div>            <script type=\"text/javascript\">                require([\"plotly\"], function(Plotly) {                    window.PLOTLYENV=window.PLOTLYENV || {};                                    if (document.getElementById(\"3363bc5c-5e7b-4aad-b8db-20494c492667\")) {                    Plotly.newPlot(                        \"3363bc5c-5e7b-4aad-b8db-20494c492667\",                        [{\"connector\":{\"line\":{\"color\":\"rgb(63, 63, 63)\"}},\"measure\":[\"relative\",\"relative\",\"relative\",\"relative\",\"relative\",\"relative\",\"relative\",\"relative\",\"relative\",\"relative\",\"relative\",\"relative\",\"relative\",\"relative\",\"relative\",\"relative\",\"relative\",\"relative\",\"relative\",\"relative\",\"relative\"],\"name\":\"WAVAX\",\"orientation\":\"v\",\"text\":[\"-8.6\",\"0.8\",\"-0.8\",\"0.6\",\"-0.6\",\"8.6\",\"-8.6\",\"0.0\",\"0.0\",\"4.0\",\"-3.3\",\"4.7\",\"4.2\",\"0.6\",\"0.6\",\"1.9\",\"-1.9\",\"1.9\",\"2.5\",\"2.6\",\"1.7\"],\"textposition\":\"outside\",\"x\":[0,1,2,3,4,5,6,7,8,9,10,11,12,13,14,15,16,17,18,19,20],\"y\":[-8.593727286632191,0.7709825685309962,-0.7709825685,0.5519898569680657,-0.551989856999062,8.594157552764889,-8.5941575527,0.012710319747636948,0.01359424998056728,4.0,-3.311342118321716,4.655,4.240705,0.60515,0.60515,1.9,-1.9,1.862,2.50439,2.552802,1.71],\"type\":\"waterfall\"}],                        {\"template\":{\"data\":{\"bar\":[{\"error_x\":{\"color\":\"#2a3f5f\"},\"error_y\":{\"color\":\"#2a3f5f\"},\"marker\":{\"line\":{\"color\":\"#E5ECF6\",\"width\":0.5},\"pattern\":{\"fillmode\":\"overlay\",\"size\":10,\"solidity\":0.2}},\"type\":\"bar\"}],\"barpolar\":[{\"marker\":{\"line\":{\"color\":\"#E5ECF6\",\"width\":0.5},\"pattern\":{\"fillmode\":\"overlay\",\"size\":10,\"solidity\":0.2}},\"type\":\"barpolar\"}],\"carpet\":[{\"aaxis\":{\"endlinecolor\":\"#2a3f5f\",\"gridcolor\":\"white\",\"linecolor\":\"white\",\"minorgridcolor\":\"white\",\"startlinecolor\":\"#2a3f5f\"},\"baxis\":{\"endlinecolor\":\"#2a3f5f\",\"gridcolor\":\"white\",\"linecolor\":\"white\",\"minorgridcolor\":\"white\",\"startlinecolor\":\"#2a3f5f\"},\"type\":\"carpet\"}],\"choropleth\":[{\"colorbar\":{\"outlinewidth\":0,\"ticks\":\"\"},\"type\":\"choropleth\"}],\"contour\":[{\"colorbar\":{\"outlinewidth\":0,\"ticks\":\"\"},\"colorscale\":[[0.0,\"#0d0887\"],[0.1111111111111111,\"#46039f\"],[0.2222222222222222,\"#7201a8\"],[0.3333333333333333,\"#9c179e\"],[0.4444444444444444,\"#bd3786\"],[0.5555555555555556,\"#d8576b\"],[0.6666666666666666,\"#ed7953\"],[0.7777777777777778,\"#fb9f3a\"],[0.8888888888888888,\"#fdca26\"],[1.0,\"#f0f921\"]],\"type\":\"contour\"}],\"contourcarpet\":[{\"colorbar\":{\"outlinewidth\":0,\"ticks\":\"\"},\"type\":\"contourcarpet\"}],\"heatmap\":[{\"colorbar\":{\"outlinewidth\":0,\"ticks\":\"\"},\"colorscale\":[[0.0,\"#0d0887\"],[0.1111111111111111,\"#46039f\"],[0.2222222222222222,\"#7201a8\"],[0.3333333333333333,\"#9c179e\"],[0.4444444444444444,\"#bd3786\"],[0.5555555555555556,\"#d8576b\"],[0.6666666666666666,\"#ed7953\"],[0.7777777777777778,\"#fb9f3a\"],[0.8888888888888888,\"#fdca26\"],[1.0,\"#f0f921\"]],\"type\":\"heatmap\"}],\"heatmapgl\":[{\"colorbar\":{\"outlinewidth\":0,\"ticks\":\"\"},\"colorscale\":[[0.0,\"#0d0887\"],[0.1111111111111111,\"#46039f\"],[0.2222222222222222,\"#7201a8\"],[0.3333333333333333,\"#9c179e\"],[0.4444444444444444,\"#bd3786\"],[0.5555555555555556,\"#d8576b\"],[0.6666666666666666,\"#ed7953\"],[0.7777777777777778,\"#fb9f3a\"],[0.8888888888888888,\"#fdca26\"],[1.0,\"#f0f921\"]],\"type\":\"heatmapgl\"}],\"histogram\":[{\"marker\":{\"pattern\":{\"fillmode\":\"overlay\",\"size\":10,\"solidity\":0.2}},\"type\":\"histogram\"}],\"histogram2d\":[{\"colorbar\":{\"outlinewidth\":0,\"ticks\":\"\"},\"colorscale\":[[0.0,\"#0d0887\"],[0.1111111111111111,\"#46039f\"],[0.2222222222222222,\"#7201a8\"],[0.3333333333333333,\"#9c179e\"],[0.4444444444444444,\"#bd3786\"],[0.5555555555555556,\"#d8576b\"],[0.6666666666666666,\"#ed7953\"],[0.7777777777777778,\"#fb9f3a\"],[0.8888888888888888,\"#fdca26\"],[1.0,\"#f0f921\"]],\"type\":\"histogram2d\"}],\"histogram2dcontour\":[{\"colorbar\":{\"outlinewidth\":0,\"ticks\":\"\"},\"colorscale\":[[0.0,\"#0d0887\"],[0.1111111111111111,\"#46039f\"],[0.2222222222222222,\"#7201a8\"],[0.3333333333333333,\"#9c179e\"],[0.4444444444444444,\"#bd3786\"],[0.5555555555555556,\"#d8576b\"],[0.6666666666666666,\"#ed7953\"],[0.7777777777777778,\"#fb9f3a\"],[0.8888888888888888,\"#fdca26\"],[1.0,\"#f0f921\"]],\"type\":\"histogram2dcontour\"}],\"mesh3d\":[{\"colorbar\":{\"outlinewidth\":0,\"ticks\":\"\"},\"type\":\"mesh3d\"}],\"parcoords\":[{\"line\":{\"colorbar\":{\"outlinewidth\":0,\"ticks\":\"\"}},\"type\":\"parcoords\"}],\"pie\":[{\"automargin\":true,\"type\":\"pie\"}],\"scatter\":[{\"marker\":{\"colorbar\":{\"outlinewidth\":0,\"ticks\":\"\"}},\"type\":\"scatter\"}],\"scatter3d\":[{\"line\":{\"colorbar\":{\"outlinewidth\":0,\"ticks\":\"\"}},\"marker\":{\"colorbar\":{\"outlinewidth\":0,\"ticks\":\"\"}},\"type\":\"scatter3d\"}],\"scattercarpet\":[{\"marker\":{\"colorbar\":{\"outlinewidth\":0,\"ticks\":\"\"}},\"type\":\"scattercarpet\"}],\"scattergeo\":[{\"marker\":{\"colorbar\":{\"outlinewidth\":0,\"ticks\":\"\"}},\"type\":\"scattergeo\"}],\"scattergl\":[{\"marker\":{\"colorbar\":{\"outlinewidth\":0,\"ticks\":\"\"}},\"type\":\"scattergl\"}],\"scattermapbox\":[{\"marker\":{\"colorbar\":{\"outlinewidth\":0,\"ticks\":\"\"}},\"type\":\"scattermapbox\"}],\"scatterpolar\":[{\"marker\":{\"colorbar\":{\"outlinewidth\":0,\"ticks\":\"\"}},\"type\":\"scatterpolar\"}],\"scatterpolargl\":[{\"marker\":{\"colorbar\":{\"outlinewidth\":0,\"ticks\":\"\"}},\"type\":\"scatterpolargl\"}],\"scatterternary\":[{\"marker\":{\"colorbar\":{\"outlinewidth\":0,\"ticks\":\"\"}},\"type\":\"scatterternary\"}],\"surface\":[{\"colorbar\":{\"outlinewidth\":0,\"ticks\":\"\"},\"colorscale\":[[0.0,\"#0d0887\"],[0.1111111111111111,\"#46039f\"],[0.2222222222222222,\"#7201a8\"],[0.3333333333333333,\"#9c179e\"],[0.4444444444444444,\"#bd3786\"],[0.5555555555555556,\"#d8576b\"],[0.6666666666666666,\"#ed7953\"],[0.7777777777777778,\"#fb9f3a\"],[0.8888888888888888,\"#fdca26\"],[1.0,\"#f0f921\"]],\"type\":\"surface\"}],\"table\":[{\"cells\":{\"fill\":{\"color\":\"#EBF0F8\"},\"line\":{\"color\":\"white\"}},\"header\":{\"fill\":{\"color\":\"#C8D4E3\"},\"line\":{\"color\":\"white\"}},\"type\":\"table\"}]},\"layout\":{\"annotationdefaults\":{\"arrowcolor\":\"#2a3f5f\",\"arrowhead\":0,\"arrowwidth\":1},\"autotypenumbers\":\"strict\",\"coloraxis\":{\"colorbar\":{\"outlinewidth\":0,\"ticks\":\"\"}},\"colorscale\":{\"diverging\":[[0,\"#8e0152\"],[0.1,\"#c51b7d\"],[0.2,\"#de77ae\"],[0.3,\"#f1b6da\"],[0.4,\"#fde0ef\"],[0.5,\"#f7f7f7\"],[0.6,\"#e6f5d0\"],[0.7,\"#b8e186\"],[0.8,\"#7fbc41\"],[0.9,\"#4d9221\"],[1,\"#276419\"]],\"sequential\":[[0.0,\"#0d0887\"],[0.1111111111111111,\"#46039f\"],[0.2222222222222222,\"#7201a8\"],[0.3333333333333333,\"#9c179e\"],[0.4444444444444444,\"#bd3786\"],[0.5555555555555556,\"#d8576b\"],[0.6666666666666666,\"#ed7953\"],[0.7777777777777778,\"#fb9f3a\"],[0.8888888888888888,\"#fdca26\"],[1.0,\"#f0f921\"]],\"sequentialminus\":[[0.0,\"#0d0887\"],[0.1111111111111111,\"#46039f\"],[0.2222222222222222,\"#7201a8\"],[0.3333333333333333,\"#9c179e\"],[0.4444444444444444,\"#bd3786\"],[0.5555555555555556,\"#d8576b\"],[0.6666666666666666,\"#ed7953\"],[0.7777777777777778,\"#fb9f3a\"],[0.8888888888888888,\"#fdca26\"],[1.0,\"#f0f921\"]]},\"colorway\":[\"#636efa\",\"#EF553B\",\"#00cc96\",\"#ab63fa\",\"#FFA15A\",\"#19d3f3\",\"#FF6692\",\"#B6E880\",\"#FF97FF\",\"#FECB52\"],\"font\":{\"color\":\"#2a3f5f\"},\"geo\":{\"bgcolor\":\"white\",\"lakecolor\":\"white\",\"landcolor\":\"#E5ECF6\",\"showlakes\":true,\"showland\":true,\"subunitcolor\":\"white\"},\"hoverlabel\":{\"align\":\"left\"},\"hovermode\":\"closest\",\"mapbox\":{\"style\":\"light\"},\"paper_bgcolor\":\"white\",\"plot_bgcolor\":\"#E5ECF6\",\"polar\":{\"angularaxis\":{\"gridcolor\":\"white\",\"linecolor\":\"white\",\"ticks\":\"\"},\"bgcolor\":\"#E5ECF6\",\"radialaxis\":{\"gridcolor\":\"white\",\"linecolor\":\"white\",\"ticks\":\"\"}},\"scene\":{\"xaxis\":{\"backgroundcolor\":\"#E5ECF6\",\"gridcolor\":\"white\",\"gridwidth\":2,\"linecolor\":\"white\",\"showbackground\":true,\"ticks\":\"\",\"zerolinecolor\":\"white\"},\"yaxis\":{\"backgroundcolor\":\"#E5ECF6\",\"gridcolor\":\"white\",\"gridwidth\":2,\"linecolor\":\"white\",\"showbackground\":true,\"ticks\":\"\",\"zerolinecolor\":\"white\"},\"zaxis\":{\"backgroundcolor\":\"#E5ECF6\",\"gridcolor\":\"white\",\"gridwidth\":2,\"linecolor\":\"white\",\"showbackground\":true,\"ticks\":\"\",\"zerolinecolor\":\"white\"}},\"shapedefaults\":{\"line\":{\"color\":\"#2a3f5f\"}},\"ternary\":{\"aaxis\":{\"gridcolor\":\"white\",\"linecolor\":\"white\",\"ticks\":\"\"},\"baxis\":{\"gridcolor\":\"white\",\"linecolor\":\"white\",\"ticks\":\"\"},\"bgcolor\":\"#E5ECF6\",\"caxis\":{\"gridcolor\":\"white\",\"linecolor\":\"white\",\"ticks\":\"\"}},\"title\":{\"x\":0.05},\"xaxis\":{\"automargin\":true,\"gridcolor\":\"white\",\"linecolor\":\"white\",\"ticks\":\"\",\"title\":{\"standoff\":15},\"zerolinecolor\":\"white\",\"zerolinewidth\":2},\"yaxis\":{\"automargin\":true,\"gridcolor\":\"white\",\"linecolor\":\"white\",\"ticks\":\"\",\"title\":{\"standoff\":15},\"zerolinecolor\":\"white\",\"zerolinewidth\":2}}},\"title\":{\"text\":\"Purchases and sales of $WAVAX\"}},                        {\"responsive\": true}                    ).then(function(){\n",
       "                            \n",
       "var gd = document.getElementById('3363bc5c-5e7b-4aad-b8db-20494c492667');\n",
       "var x = new MutationObserver(function (mutations, observer) {{\n",
       "        var display = window.getComputedStyle(gd).display;\n",
       "        if (!display || display === 'none') {{\n",
       "            console.log([gd, 'removed!']);\n",
       "            Plotly.purge(gd);\n",
       "            observer.disconnect();\n",
       "        }}\n",
       "}});\n",
       "\n",
       "// Listen for the removal of the full notebook cells\n",
       "var notebookContainer = gd.closest('#notebook-container');\n",
       "if (notebookContainer) {{\n",
       "    x.observe(notebookContainer, {childList: true});\n",
       "}}\n",
       "\n",
       "// Listen for the clearing of the current output cell\n",
       "var outputEl = gd.closest('.output');\n",
       "if (outputEl) {{\n",
       "    x.observe(outputEl, {childList: true});\n",
       "}}\n",
       "\n",
       "                        })                };                });            </script>        </div>"
      ]
     },
     "metadata": {},
     "output_type": "display_data"
    }
   ],
   "source": [
    "# Filter by token\n",
    "token = 'WAVAX'\n",
    "filt = df[df['tokenSymbol'] == token]\n",
    "\n",
    "fig = go.Figure(go.Waterfall(\n",
    "    name = token, orientation = \"v\",\n",
    "    measure = [\"relative\"] * len(filt),\n",
    "    x = [*range(len(filt))], # filt['timeStamp'],\n",
    "    textposition = \"outside\",\n",
    "    text = [\"%0.1f\" % x for x in filt['delta']],\n",
    "    y = filt['delta'],\n",
    "    connector = {\"line\":{\"color\":\"rgb(63, 63, 63)\"}},\n",
    "))\n",
    "\n",
    "fig.update_layout(\n",
    "        title = f\"Purchases and sales of ${token}\",\n",
    ")\n",
    "\n",
    "fig.show()"
   ]
  },
  {
   "cell_type": "code",
   "execution_count": 138,
   "id": "3d7d5127",
   "metadata": {},
   "outputs": [
    {
     "data": {
      "text/plain": [
       "<BarContainer object of 32 artists>"
      ]
     },
     "execution_count": 138,
     "metadata": {},
     "output_type": "execute_result"
    },
    {
     "data": {
      "image/png": "[encoded data removed]",
      "text/plain": [
       "<Figure size 432x288 with 1 Axes>"
      ]
     },
     "metadata": {
      "needs_background": "light"
     },
     "output_type": "display_data"
    }
   ],
   "source": [
    "\n",
    "plt.bar(filt['timeStamp'], filt['delta'])"
   ]
  },
  {
   "cell_type": "code",
   "execution_count": 130,
   "id": "8d5cdfe1",
   "metadata": {},
   "outputs": [
    {
     "data": {
      "text/html": [
       "<div>\n",
       "<style scoped>\n",
       "    .dataframe tbody tr th:only-of-type {\n",
       "        vertical-align: middle;\n",
       "    }\n",
       "\n",
       "    .dataframe tbody tr th {\n",
       "        vertical-align: top;\n",
       "    }\n",
       "\n",
       "    .dataframe thead th {\n",
       "        text-align: right;\n",
       "    }\n",
       "</style>\n",
       "<table border=\"1\" class=\"dataframe\">\n",
       "  <thead>\n",
       "    <tr style=\"text-align: right;\">\n",
       "      <th></th>\n",
       "      <th>blockNumber</th>\n",
       "      <th>timeStamp</th>\n",
       "      <th>hash</th>\n",
       "      <th>nonce</th>\n",
       "      <th>blockHash</th>\n",
       "      <th>from</th>\n",
       "      <th>contractAddress</th>\n",
       "      <th>to</th>\n",
       "      <th>value</th>\n",
       "      <th>tokenName</th>\n",
       "      <th>...</th>\n",
       "      <th>transactionIndex</th>\n",
       "      <th>gas</th>\n",
       "      <th>gasPrice</th>\n",
       "      <th>gasUsed</th>\n",
       "      <th>cumulativeGasUsed</th>\n",
       "      <th>input</th>\n",
       "      <th>confirmations</th>\n",
       "      <th>action</th>\n",
       "      <th>balance</th>\n",
       "      <th>delta</th>\n",
       "    </tr>\n",
       "  </thead>\n",
       "  <tbody>\n",
       "    <tr>\n",
       "      <th>0</th>\n",
       "      <td>7096173</td>\n",
       "      <td>2021-11-18 05:57:08</td>\n",
       "      <td>0xb52788145ba9837081c35a3afdc5f081d6b279f1d16f...</td>\n",
       "      <td>280616</td>\n",
       "      <td>0x8074d42b7a23ea6a3f245836cb1852b5a024df06e1ab...</td>\n",
       "      <td>0x0000000000000000000000000000000000000000</td>\n",
       "      <td>0x49d5c2bdffac6ce2bfdb6640f4f80f226bc10bab</td>\n",
       "      <td>0xf143d906c7c25eef8324c47d87ca700d2f98c221</td>\n",
       "      <td>1.192963e+17</td>\n",
       "      <td>Wrapped Ether</td>\n",
       "      <td>...</td>\n",
       "      <td>7</td>\n",
       "      <td>300000</td>\n",
       "      <td>36642045865</td>\n",
       "      <td>66669</td>\n",
       "      <td>985908</td>\n",
       "      <td>deprecated</td>\n",
       "      <td>4658837</td>\n",
       "      <td>buy</td>\n",
       "      <td>0.119296</td>\n",
       "      <td>0.119296</td>\n",
       "    </tr>\n",
       "    <tr>\n",
       "      <th>1</th>\n",
       "      <td>7096211</td>\n",
       "      <td>2021-11-18 05:58:23</td>\n",
       "      <td>0x327190ef271d63c66119136cdc0258ecee037d7e53a1...</td>\n",
       "      <td>1</td>\n",
       "      <td>0x4ab038afa6b837ca137e6abed906e4289bcf505d3f62...</td>\n",
       "      <td>0xf143d906c7c25eef8324c47d87ca700d2f98c221</td>\n",
       "      <td>0x49d5c2bdffac6ce2bfdb6640f4f80f226bc10bab</td>\n",
       "      <td>0xfe15c2695f1f920da45c30aae47d11de51007af9</td>\n",
       "      <td>1.192963e+17</td>\n",
       "      <td>Wrapped Ether</td>\n",
       "      <td>...</td>\n",
       "      <td>4</td>\n",
       "      <td>174086</td>\n",
       "      <td>34111406066</td>\n",
       "      <td>143190</td>\n",
       "      <td>2201899</td>\n",
       "      <td>deprecated</td>\n",
       "      <td>4658799</td>\n",
       "      <td>sell</td>\n",
       "      <td>-0.119296</td>\n",
       "      <td>-0.119296</td>\n",
       "    </tr>\n",
       "    <tr>\n",
       "      <th>2</th>\n",
       "      <td>7096237</td>\n",
       "      <td>2021-11-18 05:59:15</td>\n",
       "      <td>0xc5a5451976bfc5139745cad56ed055dfdab9e6453631...</td>\n",
       "      <td>2</td>\n",
       "      <td>0xca5421f6e3ae3a1509975f363e84e8b89832e0ffddad...</td>\n",
       "      <td>0x781655d802670bba3c89aebaaea59d3182fd755d</td>\n",
       "      <td>0x130966628846bfd36ff31a822705796e8cb8c18d</td>\n",
       "      <td>0xf143d906c7c25eef8324c47d87ca700d2f98c221</td>\n",
       "      <td>5.007813e+20</td>\n",
       "      <td>Magic Internet Money</td>\n",
       "      <td>...</td>\n",
       "      <td>17</td>\n",
       "      <td>174211</td>\n",
       "      <td>35397645637</td>\n",
       "      <td>131828</td>\n",
       "      <td>2525336</td>\n",
       "      <td>deprecated</td>\n",
       "      <td>4658773</td>\n",
       "      <td>buy</td>\n",
       "      <td>500.781345</td>\n",
       "      <td>500.781345</td>\n",
       "    </tr>\n",
       "    <tr>\n",
       "      <th>3</th>\n",
       "      <td>7096280</td>\n",
       "      <td>2021-11-18 06:00:39</td>\n",
       "      <td>0x26fd985681518253d427864ddb5482d1c74a30d1366e...</td>\n",
       "      <td>4</td>\n",
       "      <td>0x7500652820487a49f0f58d4124ca8a64a001f6dd76a2...</td>\n",
       "      <td>0xf143d906c7c25eef8324c47d87ca700d2f98c221</td>\n",
       "      <td>0x130966628846bfd36ff31a822705796e8cb8c18d</td>\n",
       "      <td>0xa3f1f5076499ec37d5bb095551f85ab5a344bb58</td>\n",
       "      <td>5.007813e+20</td>\n",
       "      <td>Magic Internet Money</td>\n",
       "      <td>...</td>\n",
       "      <td>40</td>\n",
       "      <td>147122</td>\n",
       "      <td>41256731825</td>\n",
       "      <td>109250</td>\n",
       "      <td>4423400</td>\n",
       "      <td>deprecated</td>\n",
       "      <td>4658730</td>\n",
       "      <td>sell</td>\n",
       "      <td>-500.781345</td>\n",
       "      <td>-500.781345</td>\n",
       "    </tr>\n",
       "    <tr>\n",
       "      <th>4</th>\n",
       "      <td>7096280</td>\n",
       "      <td>2021-11-18 06:00:39</td>\n",
       "      <td>0x26fd985681518253d427864ddb5482d1c74a30d1366e...</td>\n",
       "      <td>4</td>\n",
       "      <td>0x7500652820487a49f0f58d4124ca8a64a001f6dd76a2...</td>\n",
       "      <td>0xa3f1f5076499ec37d5bb095551f85ab5a344bb58</td>\n",
       "      <td>0xde9e52f1838951e4d2bb6c59723b003c353979b6</td>\n",
       "      <td>0xf143d906c7c25eef8324c47d87ca700d2f98c221</td>\n",
       "      <td>9.799157e+07</td>\n",
       "      <td>Snowdog</td>\n",
       "      <td>...</td>\n",
       "      <td>40</td>\n",
       "      <td>147122</td>\n",
       "      <td>41256731825</td>\n",
       "      <td>109250</td>\n",
       "      <td>4423400</td>\n",
       "      <td>deprecated</td>\n",
       "      <td>4658730</td>\n",
       "      <td>buy</td>\n",
       "      <td>0.097992</td>\n",
       "      <td>0.097992</td>\n",
       "    </tr>\n",
       "    <tr>\n",
       "      <th>...</th>\n",
       "      <td>...</td>\n",
       "      <td>...</td>\n",
       "      <td>...</td>\n",
       "      <td>...</td>\n",
       "      <td>...</td>\n",
       "      <td>...</td>\n",
       "      <td>...</td>\n",
       "      <td>...</td>\n",
       "      <td>...</td>\n",
       "      <td>...</td>\n",
       "      <td>...</td>\n",
       "      <td>...</td>\n",
       "      <td>...</td>\n",
       "      <td>...</td>\n",
       "      <td>...</td>\n",
       "      <td>...</td>\n",
       "      <td>...</td>\n",
       "      <td>...</td>\n",
       "      <td>...</td>\n",
       "      <td>...</td>\n",
       "      <td>...</td>\n",
       "    </tr>\n",
       "    <tr>\n",
       "      <th>683</th>\n",
       "      <td>11717768</td>\n",
       "      <td>2022-03-05 12:38:39</td>\n",
       "      <td>0x231a39c5017920e00350e5f60e205bef6b09707b21ba...</td>\n",
       "      <td>552</td>\n",
       "      <td>0x781c8de043181486eb1481a3e1cc652168acae55b784...</td>\n",
       "      <td>0xf143d906c7c25eef8324c47d87ca700d2f98c221</td>\n",
       "      <td>0x5817d4f0b62a59b17f75207da1848c2ce75e7af4</td>\n",
       "      <td>0x9ef0c12b787f90f59cbbe0b611b82d30cab92929</td>\n",
       "      <td>8.467734e+19</td>\n",
       "      <td>Vector</td>\n",
       "      <td>...</td>\n",
       "      <td>9</td>\n",
       "      <td>171985</td>\n",
       "      <td>26500000000</td>\n",
       "      <td>141439</td>\n",
       "      <td>2221484</td>\n",
       "      <td>deprecated</td>\n",
       "      <td>37242</td>\n",
       "      <td>sell</td>\n",
       "      <td>-84.677335</td>\n",
       "      <td>-84.677335</td>\n",
       "    </tr>\n",
       "    <tr>\n",
       "      <th>684</th>\n",
       "      <td>11743069</td>\n",
       "      <td>2022-03-06 02:51:44</td>\n",
       "      <td>0x61a3db725ed380c6bb58da22723ca3a45e88f17a5691...</td>\n",
       "      <td>553</td>\n",
       "      <td>0xb128c142b975b0accf0aca8f55dc7905c7a2fec7977d...</td>\n",
       "      <td>0xf143d906c7c25eef8324c47d87ca700d2f98c221</td>\n",
       "      <td>0x060556209e507d30f2167a101bfc6d256ed2f3e1</td>\n",
       "      <td>0x423d0fe33031aa4456a17b150804aa57fc157d97</td>\n",
       "      <td>0.000000e+00</td>\n",
       "      <td>xPTP</td>\n",
       "      <td>...</td>\n",
       "      <td>5</td>\n",
       "      <td>217024</td>\n",
       "      <td>26517569814</td>\n",
       "      <td>213170</td>\n",
       "      <td>859062</td>\n",
       "      <td>deprecated</td>\n",
       "      <td>11941</td>\n",
       "      <td>sell</td>\n",
       "      <td>-0.000000</td>\n",
       "      <td>-0.000000</td>\n",
       "    </tr>\n",
       "    <tr>\n",
       "      <th>685</th>\n",
       "      <td>11743069</td>\n",
       "      <td>2022-03-06 02:51:44</td>\n",
       "      <td>0x61a3db725ed380c6bb58da22723ca3a45e88f17a5691...</td>\n",
       "      <td>553</td>\n",
       "      <td>0xb128c142b975b0accf0aca8f55dc7905c7a2fec7977d...</td>\n",
       "      <td>0x423d0fe33031aa4456a17b150804aa57fc157d97</td>\n",
       "      <td>0x5817d4f0b62a59b17f75207da1848c2ce75e7af4</td>\n",
       "      <td>0xf143d906c7c25eef8324c47d87ca700d2f98c221</td>\n",
       "      <td>8.420625e+19</td>\n",
       "      <td>Vector</td>\n",
       "      <td>...</td>\n",
       "      <td>5</td>\n",
       "      <td>217024</td>\n",
       "      <td>26517569814</td>\n",
       "      <td>213170</td>\n",
       "      <td>859062</td>\n",
       "      <td>deprecated</td>\n",
       "      <td>11941</td>\n",
       "      <td>buy</td>\n",
       "      <td>84.206245</td>\n",
       "      <td>84.206245</td>\n",
       "    </tr>\n",
       "    <tr>\n",
       "      <th>686</th>\n",
       "      <td>11743069</td>\n",
       "      <td>2022-03-06 02:51:44</td>\n",
       "      <td>0x61a3db725ed380c6bb58da22723ca3a45e88f17a5691...</td>\n",
       "      <td>553</td>\n",
       "      <td>0xb128c142b975b0accf0aca8f55dc7905c7a2fec7977d...</td>\n",
       "      <td>0xff2ea93a0131a037dde900b3f361b1f24a870ff4</td>\n",
       "      <td>0x22d4002028f537599be9f666d1c4fa138522f9c8</td>\n",
       "      <td>0xf143d906c7c25eef8324c47d87ca700d2f98c221</td>\n",
       "      <td>1.861885e+17</td>\n",
       "      <td>Platypus</td>\n",
       "      <td>...</td>\n",
       "      <td>5</td>\n",
       "      <td>217024</td>\n",
       "      <td>26517569814</td>\n",
       "      <td>213170</td>\n",
       "      <td>859062</td>\n",
       "      <td>deprecated</td>\n",
       "      <td>11941</td>\n",
       "      <td>buy</td>\n",
       "      <td>0.186188</td>\n",
       "      <td>0.186188</td>\n",
       "    </tr>\n",
       "    <tr>\n",
       "      <th>687</th>\n",
       "      <td>11743106</td>\n",
       "      <td>2022-03-06 02:52:58</td>\n",
       "      <td>0x3509379b82034920773826140ed06c0e28fe356535fe...</td>\n",
       "      <td>554</td>\n",
       "      <td>0x72f350b1d0b759bc42efc146f1ba8164e8964c6bbaa0...</td>\n",
       "      <td>0xf143d906c7c25eef8324c47d87ca700d2f98c221</td>\n",
       "      <td>0x5817d4f0b62a59b17f75207da1848c2ce75e7af4</td>\n",
       "      <td>0x9ef0c12b787f90f59cbbe0b611b82d30cab92929</td>\n",
       "      <td>8.420625e+19</td>\n",
       "      <td>Vector</td>\n",
       "      <td>...</td>\n",
       "      <td>3</td>\n",
       "      <td>171985</td>\n",
       "      <td>26500000000</td>\n",
       "      <td>141439</td>\n",
       "      <td>666325</td>\n",
       "      <td>deprecated</td>\n",
       "      <td>11904</td>\n",
       "      <td>sell</td>\n",
       "      <td>-84.206245</td>\n",
       "      <td>-84.206245</td>\n",
       "    </tr>\n",
       "  </tbody>\n",
       "</table>\n",
       "<p>688 rows × 22 columns</p>\n",
       "</div>"
      ],
      "text/plain": [
       "     blockNumber           timeStamp  \\\n",
       "0        7096173 2021-11-18 05:57:08   \n",
       "1        7096211 2021-11-18 05:58:23   \n",
       "2        7096237 2021-11-18 05:59:15   \n",
       "3        7096280 2021-11-18 06:00:39   \n",
       "4        7096280 2021-11-18 06:00:39   \n",
       "..           ...                 ...   \n",
       "683     11717768 2022-03-05 12:38:39   \n",
       "684     11743069 2022-03-06 02:51:44   \n",
       "685     11743069 2022-03-06 02:51:44   \n",
       "686     11743069 2022-03-06 02:51:44   \n",
       "687     11743106 2022-03-06 02:52:58   \n",
       "\n",
       "                                                  hash   nonce  \\\n",
       "0    0xb52788145ba9837081c35a3afdc5f081d6b279f1d16f...  280616   \n",
       "1    0x327190ef271d63c66119136cdc0258ecee037d7e53a1...       1   \n",
       "2    0xc5a5451976bfc5139745cad56ed055dfdab9e6453631...       2   \n",
       "3    0x26fd985681518253d427864ddb5482d1c74a30d1366e...       4   \n",
       "4    0x26fd985681518253d427864ddb5482d1c74a30d1366e...       4   \n",
       "..                                                 ...     ...   \n",
       "683  0x231a39c5017920e00350e5f60e205bef6b09707b21ba...     552   \n",
       "684  0x61a3db725ed380c6bb58da22723ca3a45e88f17a5691...     553   \n",
       "685  0x61a3db725ed380c6bb58da22723ca3a45e88f17a5691...     553   \n",
       "686  0x61a3db725ed380c6bb58da22723ca3a45e88f17a5691...     553   \n",
       "687  0x3509379b82034920773826140ed06c0e28fe356535fe...     554   \n",
       "\n",
       "                                             blockHash  \\\n",
       "0    0x8074d42b7a23ea6a3f245836cb1852b5a024df06e1ab...   \n",
       "1    0x4ab038afa6b837ca137e6abed906e4289bcf505d3f62...   \n",
       "2    0xca5421f6e3ae3a1509975f363e84e8b89832e0ffddad...   \n",
       "3    0x7500652820487a49f0f58d4124ca8a64a001f6dd76a2...   \n",
       "4    0x7500652820487a49f0f58d4124ca8a64a001f6dd76a2...   \n",
       "..                                                 ...   \n",
       "683  0x781c8de043181486eb1481a3e1cc652168acae55b784...   \n",
       "684  0xb128c142b975b0accf0aca8f55dc7905c7a2fec7977d...   \n",
       "685  0xb128c142b975b0accf0aca8f55dc7905c7a2fec7977d...   \n",
       "686  0xb128c142b975b0accf0aca8f55dc7905c7a2fec7977d...   \n",
       "687  0x72f350b1d0b759bc42efc146f1ba8164e8964c6bbaa0...   \n",
       "\n",
       "                                           from  \\\n",
       "0    0x0000000000000000000000000000000000000000   \n",
       "1    0xf143d906c7c25eef8324c47d87ca700d2f98c221   \n",
       "2    0x781655d802670bba3c89aebaaea59d3182fd755d   \n",
       "3    0xf143d906c7c25eef8324c47d87ca700d2f98c221   \n",
       "4    0xa3f1f5076499ec37d5bb095551f85ab5a344bb58   \n",
       "..                                          ...   \n",
       "683  0xf143d906c7c25eef8324c47d87ca700d2f98c221   \n",
       "684  0xf143d906c7c25eef8324c47d87ca700d2f98c221   \n",
       "685  0x423d0fe33031aa4456a17b150804aa57fc157d97   \n",
       "686  0xff2ea93a0131a037dde900b3f361b1f24a870ff4   \n",
       "687  0xf143d906c7c25eef8324c47d87ca700d2f98c221   \n",
       "\n",
       "                                contractAddress  \\\n",
       "0    0x49d5c2bdffac6ce2bfdb6640f4f80f226bc10bab   \n",
       "1    0x49d5c2bdffac6ce2bfdb6640f4f80f226bc10bab   \n",
       "2    0x130966628846bfd36ff31a822705796e8cb8c18d   \n",
       "3    0x130966628846bfd36ff31a822705796e8cb8c18d   \n",
       "4    0xde9e52f1838951e4d2bb6c59723b003c353979b6   \n",
       "..                                          ...   \n",
       "683  0x5817d4f0b62a59b17f75207da1848c2ce75e7af4   \n",
       "684  0x060556209e507d30f2167a101bfc6d256ed2f3e1   \n",
       "685  0x5817d4f0b62a59b17f75207da1848c2ce75e7af4   \n",
       "686  0x22d4002028f537599be9f666d1c4fa138522f9c8   \n",
       "687  0x5817d4f0b62a59b17f75207da1848c2ce75e7af4   \n",
       "\n",
       "                                             to         value  \\\n",
       "0    0xf143d906c7c25eef8324c47d87ca700d2f98c221  1.192963e+17   \n",
       "1    0xfe15c2695f1f920da45c30aae47d11de51007af9  1.192963e+17   \n",
       "2    0xf143d906c7c25eef8324c47d87ca700d2f98c221  5.007813e+20   \n",
       "3    0xa3f1f5076499ec37d5bb095551f85ab5a344bb58  5.007813e+20   \n",
       "4    0xf143d906c7c25eef8324c47d87ca700d2f98c221  9.799157e+07   \n",
       "..                                          ...           ...   \n",
       "683  0x9ef0c12b787f90f59cbbe0b611b82d30cab92929  8.467734e+19   \n",
       "684  0x423d0fe33031aa4456a17b150804aa57fc157d97  0.000000e+00   \n",
       "685  0xf143d906c7c25eef8324c47d87ca700d2f98c221  8.420625e+19   \n",
       "686  0xf143d906c7c25eef8324c47d87ca700d2f98c221  1.861885e+17   \n",
       "687  0x9ef0c12b787f90f59cbbe0b611b82d30cab92929  8.420625e+19   \n",
       "\n",
       "                tokenName  ... transactionIndex     gas     gasPrice  gasUsed  \\\n",
       "0           Wrapped Ether  ...                7  300000  36642045865    66669   \n",
       "1           Wrapped Ether  ...                4  174086  34111406066   143190   \n",
       "2    Magic Internet Money  ...               17  174211  35397645637   131828   \n",
       "3    Magic Internet Money  ...               40  147122  41256731825   109250   \n",
       "4                 Snowdog  ...               40  147122  41256731825   109250   \n",
       "..                    ...  ...              ...     ...          ...      ...   \n",
       "683                Vector  ...                9  171985  26500000000   141439   \n",
       "684                  xPTP  ...                5  217024  26517569814   213170   \n",
       "685                Vector  ...                5  217024  26517569814   213170   \n",
       "686              Platypus  ...                5  217024  26517569814   213170   \n",
       "687                Vector  ...                3  171985  26500000000   141439   \n",
       "\n",
       "     cumulativeGasUsed       input  confirmations action     balance  \\\n",
       "0               985908  deprecated        4658837    buy    0.119296   \n",
       "1              2201899  deprecated        4658799   sell   -0.119296   \n",
       "2              2525336  deprecated        4658773    buy  500.781345   \n",
       "3              4423400  deprecated        4658730   sell -500.781345   \n",
       "4              4423400  deprecated        4658730    buy    0.097992   \n",
       "..                 ...         ...            ...    ...         ...   \n",
       "683            2221484  deprecated          37242   sell  -84.677335   \n",
       "684             859062  deprecated          11941   sell   -0.000000   \n",
       "685             859062  deprecated          11941    buy   84.206245   \n",
       "686             859062  deprecated          11941    buy    0.186188   \n",
       "687             666325  deprecated          11904   sell  -84.206245   \n",
       "\n",
       "          delta  \n",
       "0      0.119296  \n",
       "1     -0.119296  \n",
       "2    500.781345  \n",
       "3   -500.781345  \n",
       "4      0.097992  \n",
       "..          ...  \n",
       "683  -84.677335  \n",
       "684   -0.000000  \n",
       "685   84.206245  \n",
       "686    0.186188  \n",
       "687  -84.206245  \n",
       "\n",
       "[688 rows x 22 columns]"
      ]
     },
     "execution_count": 130,
     "metadata": {},
     "output_type": "execute_result"
    }
   ],
   "source": [
    "df"
   ]
  },
  {
   "cell_type": "code",
   "execution_count": null,
   "id": "2429153a",
   "metadata": {},
   "outputs": [],
   "source": []
  },
  {
   "cell_type": "code",
   "execution_count": null,
   "id": "4093668b",
   "metadata": {},
   "outputs": [],
   "source": []
  },
  {
   "cell_type": "code",
   "execution_count": null,
   "id": "41a7b032",
   "metadata": {},
   "outputs": [],
   "source": []
  },
  {
   "cell_type": "code",
   "execution_count": null,
   "id": "c9f94bfd",
   "metadata": {},
   "outputs": [],
   "source": []
  }
 ],
 "metadata": {
  "kernelspec": {
   "display_name": "Python 3 (ipykernel)",
   "language": "python",
   "name": "python3"
  },
  "language_info": {
   "codemirror_mode": {
    "name": "ipython",
    "version": 3
   },
   "file_extension": ".py",
   "mimetype": "text/x-python",
   "name": "python",
   "nbconvert_exporter": "python",
   "pygments_lexer": "ipython3",
   "version": "3.9.7"
  }
 },
 "nbformat": 4,
 "nbformat_minor": 5
}
